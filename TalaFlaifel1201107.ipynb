{
 "cells": [
  {
   "cell_type": "code",
   "execution_count": 48,
   "metadata": {},
   "outputs": [],
   "source": [
    "import seaborn as sns\n",
    "import numpy as np\n",
    "import matplotlib.pyplot as plt\n",
    "import pandas as pd\n",
    "from sklearn.ensemble import RandomForestClassifier\n",
    "from sklearn.svm import SVC\n",
    "from sklearn.metrics import accuracy_score, precision_score, recall_score, f1_score, roc_auc_score\n"
   ]
  },
  {
   "cell_type": "markdown",
   "metadata": {},
   "source": [
    "Load the dataset "
   ]
  },
  {
   "cell_type": "code",
   "execution_count": 49,
   "metadata": {},
   "outputs": [],
   "source": [
    "# load dataset titanic\n",
    "df = sns.load_dataset('titanic')"
   ]
  },
  {
   "cell_type": "markdown",
   "metadata": {},
   "source": [
    "Start by data exploration, and printing data to have a better understanding of it. "
   ]
  },
  {
   "cell_type": "code",
   "execution_count": 50,
   "metadata": {},
   "outputs": [
    {
     "name": "stdout",
     "output_type": "stream",
     "text": [
      "     survived  pclass     sex   age  sibsp  parch     fare embarked   class  \\\n",
      "0           0       3    male  22.0      1      0   7.2500        S   Third   \n",
      "1           1       1  female  38.0      1      0  71.2833        C   First   \n",
      "2           1       3  female  26.0      0      0   7.9250        S   Third   \n",
      "3           1       1  female  35.0      1      0  53.1000        S   First   \n",
      "4           0       3    male  35.0      0      0   8.0500        S   Third   \n",
      "..        ...     ...     ...   ...    ...    ...      ...      ...     ...   \n",
      "886         0       2    male  27.0      0      0  13.0000        S  Second   \n",
      "887         1       1  female  19.0      0      0  30.0000        S   First   \n",
      "888         0       3  female   NaN      1      2  23.4500        S   Third   \n",
      "889         1       1    male  26.0      0      0  30.0000        C   First   \n",
      "890         0       3    male  32.0      0      0   7.7500        Q   Third   \n",
      "\n",
      "       who  adult_male deck  embark_town alive  alone  \n",
      "0      man        True  NaN  Southampton    no  False  \n",
      "1    woman       False    C    Cherbourg   yes  False  \n",
      "2    woman       False  NaN  Southampton   yes   True  \n",
      "3    woman       False    C  Southampton   yes  False  \n",
      "4      man        True  NaN  Southampton    no   True  \n",
      "..     ...         ...  ...          ...   ...    ...  \n",
      "886    man        True  NaN  Southampton    no   True  \n",
      "887  woman       False    B  Southampton   yes   True  \n",
      "888  woman       False  NaN  Southampton    no  False  \n",
      "889    man        True    C    Cherbourg   yes   True  \n",
      "890    man        True  NaN   Queenstown    no   True  \n",
      "\n",
      "[891 rows x 15 columns]\n"
     ]
    }
   ],
   "source": [
    "print(df)"
   ]
  },
  {
   "cell_type": "code",
   "execution_count": 51,
   "metadata": {},
   "outputs": [
    {
     "data": {
      "text/html": [
       "<div>\n",
       "<style scoped>\n",
       "    .dataframe tbody tr th:only-of-type {\n",
       "        vertical-align: middle;\n",
       "    }\n",
       "\n",
       "    .dataframe tbody tr th {\n",
       "        vertical-align: top;\n",
       "    }\n",
       "\n",
       "    .dataframe thead th {\n",
       "        text-align: right;\n",
       "    }\n",
       "</style>\n",
       "<table border=\"1\" class=\"dataframe\">\n",
       "  <thead>\n",
       "    <tr style=\"text-align: right;\">\n",
       "      <th></th>\n",
       "      <th>survived</th>\n",
       "      <th>pclass</th>\n",
       "      <th>sex</th>\n",
       "      <th>age</th>\n",
       "      <th>sibsp</th>\n",
       "      <th>parch</th>\n",
       "      <th>fare</th>\n",
       "      <th>embarked</th>\n",
       "      <th>class</th>\n",
       "      <th>who</th>\n",
       "      <th>adult_male</th>\n",
       "      <th>deck</th>\n",
       "      <th>embark_town</th>\n",
       "      <th>alive</th>\n",
       "      <th>alone</th>\n",
       "    </tr>\n",
       "  </thead>\n",
       "  <tbody>\n",
       "    <tr>\n",
       "      <th>0</th>\n",
       "      <td>0</td>\n",
       "      <td>3</td>\n",
       "      <td>male</td>\n",
       "      <td>22.0</td>\n",
       "      <td>1</td>\n",
       "      <td>0</td>\n",
       "      <td>7.2500</td>\n",
       "      <td>S</td>\n",
       "      <td>Third</td>\n",
       "      <td>man</td>\n",
       "      <td>True</td>\n",
       "      <td>NaN</td>\n",
       "      <td>Southampton</td>\n",
       "      <td>no</td>\n",
       "      <td>False</td>\n",
       "    </tr>\n",
       "    <tr>\n",
       "      <th>1</th>\n",
       "      <td>1</td>\n",
       "      <td>1</td>\n",
       "      <td>female</td>\n",
       "      <td>38.0</td>\n",
       "      <td>1</td>\n",
       "      <td>0</td>\n",
       "      <td>71.2833</td>\n",
       "      <td>C</td>\n",
       "      <td>First</td>\n",
       "      <td>woman</td>\n",
       "      <td>False</td>\n",
       "      <td>C</td>\n",
       "      <td>Cherbourg</td>\n",
       "      <td>yes</td>\n",
       "      <td>False</td>\n",
       "    </tr>\n",
       "    <tr>\n",
       "      <th>2</th>\n",
       "      <td>1</td>\n",
       "      <td>3</td>\n",
       "      <td>female</td>\n",
       "      <td>26.0</td>\n",
       "      <td>0</td>\n",
       "      <td>0</td>\n",
       "      <td>7.9250</td>\n",
       "      <td>S</td>\n",
       "      <td>Third</td>\n",
       "      <td>woman</td>\n",
       "      <td>False</td>\n",
       "      <td>NaN</td>\n",
       "      <td>Southampton</td>\n",
       "      <td>yes</td>\n",
       "      <td>True</td>\n",
       "    </tr>\n",
       "    <tr>\n",
       "      <th>3</th>\n",
       "      <td>1</td>\n",
       "      <td>1</td>\n",
       "      <td>female</td>\n",
       "      <td>35.0</td>\n",
       "      <td>1</td>\n",
       "      <td>0</td>\n",
       "      <td>53.1000</td>\n",
       "      <td>S</td>\n",
       "      <td>First</td>\n",
       "      <td>woman</td>\n",
       "      <td>False</td>\n",
       "      <td>C</td>\n",
       "      <td>Southampton</td>\n",
       "      <td>yes</td>\n",
       "      <td>False</td>\n",
       "    </tr>\n",
       "    <tr>\n",
       "      <th>4</th>\n",
       "      <td>0</td>\n",
       "      <td>3</td>\n",
       "      <td>male</td>\n",
       "      <td>35.0</td>\n",
       "      <td>0</td>\n",
       "      <td>0</td>\n",
       "      <td>8.0500</td>\n",
       "      <td>S</td>\n",
       "      <td>Third</td>\n",
       "      <td>man</td>\n",
       "      <td>True</td>\n",
       "      <td>NaN</td>\n",
       "      <td>Southampton</td>\n",
       "      <td>no</td>\n",
       "      <td>True</td>\n",
       "    </tr>\n",
       "  </tbody>\n",
       "</table>\n",
       "</div>"
      ],
      "text/plain": [
       "   survived  pclass     sex   age  sibsp  parch     fare embarked  class  \\\n",
       "0         0       3    male  22.0      1      0   7.2500        S  Third   \n",
       "1         1       1  female  38.0      1      0  71.2833        C  First   \n",
       "2         1       3  female  26.0      0      0   7.9250        S  Third   \n",
       "3         1       1  female  35.0      1      0  53.1000        S  First   \n",
       "4         0       3    male  35.0      0      0   8.0500        S  Third   \n",
       "\n",
       "     who  adult_male deck  embark_town alive  alone  \n",
       "0    man        True  NaN  Southampton    no  False  \n",
       "1  woman       False    C    Cherbourg   yes  False  \n",
       "2  woman       False  NaN  Southampton   yes   True  \n",
       "3  woman       False    C  Southampton   yes  False  \n",
       "4    man        True  NaN  Southampton    no   True  "
      ]
     },
     "execution_count": 51,
     "metadata": {},
     "output_type": "execute_result"
    }
   ],
   "source": [
    "df.head()"
   ]
  },
  {
   "cell_type": "markdown",
   "metadata": {},
   "source": [
    "Get the data's col vs row number"
   ]
  },
  {
   "cell_type": "code",
   "execution_count": 52,
   "metadata": {},
   "outputs": [
    {
     "name": "stdout",
     "output_type": "stream",
     "text": [
      "(891, 15)\n"
     ]
    }
   ],
   "source": [
    "print(df.shape)"
   ]
  },
  {
   "cell_type": "markdown",
   "metadata": {},
   "source": [
    "Statistical describtions of the numerical columns.   "
   ]
  },
  {
   "cell_type": "code",
   "execution_count": 53,
   "metadata": {},
   "outputs": [
    {
     "data": {
      "text/html": [
       "<div>\n",
       "<style scoped>\n",
       "    .dataframe tbody tr th:only-of-type {\n",
       "        vertical-align: middle;\n",
       "    }\n",
       "\n",
       "    .dataframe tbody tr th {\n",
       "        vertical-align: top;\n",
       "    }\n",
       "\n",
       "    .dataframe thead th {\n",
       "        text-align: right;\n",
       "    }\n",
       "</style>\n",
       "<table border=\"1\" class=\"dataframe\">\n",
       "  <thead>\n",
       "    <tr style=\"text-align: right;\">\n",
       "      <th></th>\n",
       "      <th>survived</th>\n",
       "      <th>pclass</th>\n",
       "      <th>age</th>\n",
       "      <th>sibsp</th>\n",
       "      <th>parch</th>\n",
       "      <th>fare</th>\n",
       "    </tr>\n",
       "  </thead>\n",
       "  <tbody>\n",
       "    <tr>\n",
       "      <th>count</th>\n",
       "      <td>891.000000</td>\n",
       "      <td>891.000000</td>\n",
       "      <td>714.000000</td>\n",
       "      <td>891.000000</td>\n",
       "      <td>891.000000</td>\n",
       "      <td>891.000000</td>\n",
       "    </tr>\n",
       "    <tr>\n",
       "      <th>mean</th>\n",
       "      <td>0.383838</td>\n",
       "      <td>2.308642</td>\n",
       "      <td>29.699118</td>\n",
       "      <td>0.523008</td>\n",
       "      <td>0.381594</td>\n",
       "      <td>32.204208</td>\n",
       "    </tr>\n",
       "    <tr>\n",
       "      <th>std</th>\n",
       "      <td>0.486592</td>\n",
       "      <td>0.836071</td>\n",
       "      <td>14.526497</td>\n",
       "      <td>1.102743</td>\n",
       "      <td>0.806057</td>\n",
       "      <td>49.693429</td>\n",
       "    </tr>\n",
       "    <tr>\n",
       "      <th>min</th>\n",
       "      <td>0.000000</td>\n",
       "      <td>1.000000</td>\n",
       "      <td>0.420000</td>\n",
       "      <td>0.000000</td>\n",
       "      <td>0.000000</td>\n",
       "      <td>0.000000</td>\n",
       "    </tr>\n",
       "    <tr>\n",
       "      <th>25%</th>\n",
       "      <td>0.000000</td>\n",
       "      <td>2.000000</td>\n",
       "      <td>20.125000</td>\n",
       "      <td>0.000000</td>\n",
       "      <td>0.000000</td>\n",
       "      <td>7.910400</td>\n",
       "    </tr>\n",
       "    <tr>\n",
       "      <th>50%</th>\n",
       "      <td>0.000000</td>\n",
       "      <td>3.000000</td>\n",
       "      <td>28.000000</td>\n",
       "      <td>0.000000</td>\n",
       "      <td>0.000000</td>\n",
       "      <td>14.454200</td>\n",
       "    </tr>\n",
       "    <tr>\n",
       "      <th>75%</th>\n",
       "      <td>1.000000</td>\n",
       "      <td>3.000000</td>\n",
       "      <td>38.000000</td>\n",
       "      <td>1.000000</td>\n",
       "      <td>0.000000</td>\n",
       "      <td>31.000000</td>\n",
       "    </tr>\n",
       "    <tr>\n",
       "      <th>max</th>\n",
       "      <td>1.000000</td>\n",
       "      <td>3.000000</td>\n",
       "      <td>80.000000</td>\n",
       "      <td>8.000000</td>\n",
       "      <td>6.000000</td>\n",
       "      <td>512.329200</td>\n",
       "    </tr>\n",
       "  </tbody>\n",
       "</table>\n",
       "</div>"
      ],
      "text/plain": [
       "         survived      pclass         age       sibsp       parch        fare\n",
       "count  891.000000  891.000000  714.000000  891.000000  891.000000  891.000000\n",
       "mean     0.383838    2.308642   29.699118    0.523008    0.381594   32.204208\n",
       "std      0.486592    0.836071   14.526497    1.102743    0.806057   49.693429\n",
       "min      0.000000    1.000000    0.420000    0.000000    0.000000    0.000000\n",
       "25%      0.000000    2.000000   20.125000    0.000000    0.000000    7.910400\n",
       "50%      0.000000    3.000000   28.000000    0.000000    0.000000   14.454200\n",
       "75%      1.000000    3.000000   38.000000    1.000000    0.000000   31.000000\n",
       "max      1.000000    3.000000   80.000000    8.000000    6.000000  512.329200"
      ]
     },
     "execution_count": 53,
     "metadata": {},
     "output_type": "execute_result"
    }
   ],
   "source": [
    "df.describe()"
   ]
  },
  {
   "cell_type": "markdown",
   "metadata": {},
   "source": [
    "General understanding of the data structure."
   ]
  },
  {
   "cell_type": "code",
   "execution_count": 54,
   "metadata": {},
   "outputs": [
    {
     "name": "stdout",
     "output_type": "stream",
     "text": [
      "<class 'pandas.core.frame.DataFrame'>\n",
      "RangeIndex: 891 entries, 0 to 890\n",
      "Data columns (total 15 columns):\n",
      " #   Column       Non-Null Count  Dtype   \n",
      "---  ------       --------------  -----   \n",
      " 0   survived     891 non-null    int64   \n",
      " 1   pclass       891 non-null    int64   \n",
      " 2   sex          891 non-null    object  \n",
      " 3   age          714 non-null    float64 \n",
      " 4   sibsp        891 non-null    int64   \n",
      " 5   parch        891 non-null    int64   \n",
      " 6   fare         891 non-null    float64 \n",
      " 7   embarked     889 non-null    object  \n",
      " 8   class        891 non-null    category\n",
      " 9   who          891 non-null    object  \n",
      " 10  adult_male   891 non-null    bool    \n",
      " 11  deck         203 non-null    category\n",
      " 12  embark_town  889 non-null    object  \n",
      " 13  alive        891 non-null    object  \n",
      " 14  alone        891 non-null    bool    \n",
      "dtypes: bool(2), category(2), float64(2), int64(4), object(5)\n",
      "memory usage: 80.7+ KB\n"
     ]
    }
   ],
   "source": [
    "df.info()"
   ]
  },
  {
   "cell_type": "markdown",
   "metadata": {},
   "source": [
    "visualisation of a set of features against the survival feature."
   ]
  },
  {
   "cell_type": "markdown",
   "metadata": {},
   "source": [
    "- female survival is higher than men\n",
    "- class 1 and 2 is high in comparison with class 1 with very low survival rate\n"
   ]
  },
  {
   "cell_type": "code",
   "execution_count": 55,
   "metadata": {},
   "outputs": [
    {
     "data": {
      "image/png": "[encoded data removed]",
      "text/plain": [
       "<Figure size 1200x1000 with 4 Axes>"
      ]
     },
     "metadata": {},
     "output_type": "display_data"
    }
   ],
   "source": [
    "\n",
    "fig, axes = plt.subplots(2, 2, figsize=(12, 10))\n",
    "\n",
    "# Distribution of survivors\n",
    "sns.histplot(df['survived'], ax=axes[0, 0])\n",
    "axes[0, 0].set_title('Distribution of Survivors')\n",
    "\n",
    "# Survival by sex\n",
    "sns.barplot(x='sex', y='survived', data=df, ax=axes[0, 1])\n",
    "axes[0, 1].set_title('Survival by Sex')\n",
    "\n",
    "# Survival by passenger class\n",
    "sns.boxplot(x='pclass', y='survived', data=df, ax=axes[1, 0])\n",
    "axes[1, 0].set_title('Survival by Passenger Class')\n",
    "\n",
    "# Embarkation distribution\n",
    "sns.countplot(x='embarked', data=df, ax=axes[1, 1])\n",
    "axes[1, 1].set_title('Embarkation Distribution')\n",
    "\n",
    "# Adjust layout\n",
    "plt.tight_layout()\n",
    "\n",
    "# Show plot\n",
    "plt.show()"
   ]
  },
  {
   "cell_type": "markdown",
   "metadata": {},
   "source": [
    "Printing the missing values to further evaluate the dataset."
   ]
  },
  {
   "cell_type": "code",
   "execution_count": 56,
   "metadata": {},
   "outputs": [
    {
     "name": "stdout",
     "output_type": "stream",
     "text": [
      "survived         0\n",
      "pclass           0\n",
      "sex              0\n",
      "age            177\n",
      "sibsp            0\n",
      "parch            0\n",
      "fare             0\n",
      "embarked         2\n",
      "class            0\n",
      "who              0\n",
      "adult_male       0\n",
      "deck           688\n",
      "embark_town      2\n",
      "alive            0\n",
      "alone            0\n",
      "dtype: int64\n"
     ]
    }
   ],
   "source": [
    "\n",
    "missing_values_count = df.isnull().sum()\n",
    "print(missing_values_count)"
   ]
  },
  {
   "cell_type": "markdown",
   "metadata": {},
   "source": [
    "Identify potential outliers using the interquartile range (IQR) method.\n",
    "For numerical features."
   ]
  },
  {
   "cell_type": "code",
   "execution_count": 57,
   "metadata": {},
   "outputs": [
    {
     "name": "stdout",
     "output_type": "stream",
     "text": [
      "Column: survived\n",
      "25th Percentile: 0.0\n",
      "75th Percentile: 1.0\n",
      "Interquartile Range (IQR): 1.0\n",
      "\n",
      "Column: pclass\n",
      "25th Percentile: 2.0\n",
      "75th Percentile: 3.0\n",
      "Interquartile Range (IQR): 1.0\n",
      "\n",
      "Column: age\n",
      "25th Percentile: 20.125\n",
      "75th Percentile: 38.0\n",
      "Interquartile Range (IQR): 17.875\n",
      "\n",
      "Column: sibsp\n",
      "25th Percentile: 0.0\n",
      "75th Percentile: 1.0\n",
      "Interquartile Range (IQR): 1.0\n",
      "\n",
      "Column: fare\n",
      "25th Percentile: 7.9104\n",
      "75th Percentile: 31.0\n",
      "Interquartile Range (IQR): 23.0896\n",
      "\n"
     ]
    }
   ],
   "source": [
    "\n",
    "\n",
    "columns = ['survived', 'pclass', 'age', 'sibsp', 'fare']\n",
    "\n",
    "# Loop through each column and compute percentiles and IQR\n",
    "for column in columns:\n",
    "    # Compute percentiles\n",
    "    percentile_25 = df[column].quantile(0.25)\n",
    "    percentile_75 = df[column].quantile(0.75)\n",
    "\n",
    "    print(\"Column:\", column)\n",
    "    print(\"25th Percentile:\", percentile_25)\n",
    "    print(\"75th Percentile:\", percentile_75)\n",
    "\n",
    "    # Compute interquartile range (IQR)\n",
    "    iqr = percentile_75 - percentile_25\n",
    "    print(\"Interquartile Range (IQR):\", iqr)\n",
    "    print()\n"
   ]
  },
  {
   "cell_type": "markdown",
   "metadata": {},
   "source": [
    "Number of missing values, as well as the percentage."
   ]
  },
  {
   "cell_type": "code",
   "execution_count": 58,
   "metadata": {},
   "outputs": [
    {
     "name": "stdout",
     "output_type": "stream",
     "text": [
      "709\n",
      "79.57351290684625 %\n"
     ]
    }
   ],
   "source": [
    "print(df.isnull().any(axis=1).sum())\n",
    "print(100*df.isnull().any(axis=1).sum()/df.shape[0],'%')"
   ]
  },
  {
   "cell_type": "code",
   "execution_count": 59,
   "metadata": {},
   "outputs": [
    {
     "data": {
      "text/html": [
       "<div>\n",
       "<style scoped>\n",
       "    .dataframe tbody tr th:only-of-type {\n",
       "        vertical-align: middle;\n",
       "    }\n",
       "\n",
       "    .dataframe tbody tr th {\n",
       "        vertical-align: top;\n",
       "    }\n",
       "\n",
       "    .dataframe thead th {\n",
       "        text-align: right;\n",
       "    }\n",
       "</style>\n",
       "<table border=\"1\" class=\"dataframe\">\n",
       "  <thead>\n",
       "    <tr style=\"text-align: right;\">\n",
       "      <th></th>\n",
       "      <th>survived</th>\n",
       "      <th>pclass</th>\n",
       "      <th>sex</th>\n",
       "      <th>age</th>\n",
       "      <th>sibsp</th>\n",
       "      <th>parch</th>\n",
       "      <th>fare</th>\n",
       "      <th>embarked</th>\n",
       "      <th>class</th>\n",
       "      <th>who</th>\n",
       "      <th>adult_male</th>\n",
       "      <th>deck</th>\n",
       "      <th>embark_town</th>\n",
       "      <th>alive</th>\n",
       "      <th>alone</th>\n",
       "    </tr>\n",
       "  </thead>\n",
       "  <tbody>\n",
       "    <tr>\n",
       "      <th>0</th>\n",
       "      <td>0</td>\n",
       "      <td>3</td>\n",
       "      <td>male</td>\n",
       "      <td>22.0</td>\n",
       "      <td>1</td>\n",
       "      <td>0</td>\n",
       "      <td>7.2500</td>\n",
       "      <td>S</td>\n",
       "      <td>Third</td>\n",
       "      <td>man</td>\n",
       "      <td>True</td>\n",
       "      <td>NaN</td>\n",
       "      <td>Southampton</td>\n",
       "      <td>no</td>\n",
       "      <td>False</td>\n",
       "    </tr>\n",
       "    <tr>\n",
       "      <th>2</th>\n",
       "      <td>1</td>\n",
       "      <td>3</td>\n",
       "      <td>female</td>\n",
       "      <td>26.0</td>\n",
       "      <td>0</td>\n",
       "      <td>0</td>\n",
       "      <td>7.9250</td>\n",
       "      <td>S</td>\n",
       "      <td>Third</td>\n",
       "      <td>woman</td>\n",
       "      <td>False</td>\n",
       "      <td>NaN</td>\n",
       "      <td>Southampton</td>\n",
       "      <td>yes</td>\n",
       "      <td>True</td>\n",
       "    </tr>\n",
       "    <tr>\n",
       "      <th>4</th>\n",
       "      <td>0</td>\n",
       "      <td>3</td>\n",
       "      <td>male</td>\n",
       "      <td>35.0</td>\n",
       "      <td>0</td>\n",
       "      <td>0</td>\n",
       "      <td>8.0500</td>\n",
       "      <td>S</td>\n",
       "      <td>Third</td>\n",
       "      <td>man</td>\n",
       "      <td>True</td>\n",
       "      <td>NaN</td>\n",
       "      <td>Southampton</td>\n",
       "      <td>no</td>\n",
       "      <td>True</td>\n",
       "    </tr>\n",
       "    <tr>\n",
       "      <th>5</th>\n",
       "      <td>0</td>\n",
       "      <td>3</td>\n",
       "      <td>male</td>\n",
       "      <td>NaN</td>\n",
       "      <td>0</td>\n",
       "      <td>0</td>\n",
       "      <td>8.4583</td>\n",
       "      <td>Q</td>\n",
       "      <td>Third</td>\n",
       "      <td>man</td>\n",
       "      <td>True</td>\n",
       "      <td>NaN</td>\n",
       "      <td>Queenstown</td>\n",
       "      <td>no</td>\n",
       "      <td>True</td>\n",
       "    </tr>\n",
       "    <tr>\n",
       "      <th>7</th>\n",
       "      <td>0</td>\n",
       "      <td>3</td>\n",
       "      <td>male</td>\n",
       "      <td>2.0</td>\n",
       "      <td>3</td>\n",
       "      <td>1</td>\n",
       "      <td>21.0750</td>\n",
       "      <td>S</td>\n",
       "      <td>Third</td>\n",
       "      <td>child</td>\n",
       "      <td>False</td>\n",
       "      <td>NaN</td>\n",
       "      <td>Southampton</td>\n",
       "      <td>no</td>\n",
       "      <td>False</td>\n",
       "    </tr>\n",
       "    <tr>\n",
       "      <th>...</th>\n",
       "      <td>...</td>\n",
       "      <td>...</td>\n",
       "      <td>...</td>\n",
       "      <td>...</td>\n",
       "      <td>...</td>\n",
       "      <td>...</td>\n",
       "      <td>...</td>\n",
       "      <td>...</td>\n",
       "      <td>...</td>\n",
       "      <td>...</td>\n",
       "      <td>...</td>\n",
       "      <td>...</td>\n",
       "      <td>...</td>\n",
       "      <td>...</td>\n",
       "      <td>...</td>\n",
       "    </tr>\n",
       "    <tr>\n",
       "      <th>884</th>\n",
       "      <td>0</td>\n",
       "      <td>3</td>\n",
       "      <td>male</td>\n",
       "      <td>25.0</td>\n",
       "      <td>0</td>\n",
       "      <td>0</td>\n",
       "      <td>7.0500</td>\n",
       "      <td>S</td>\n",
       "      <td>Third</td>\n",
       "      <td>man</td>\n",
       "      <td>True</td>\n",
       "      <td>NaN</td>\n",
       "      <td>Southampton</td>\n",
       "      <td>no</td>\n",
       "      <td>True</td>\n",
       "    </tr>\n",
       "    <tr>\n",
       "      <th>885</th>\n",
       "      <td>0</td>\n",
       "      <td>3</td>\n",
       "      <td>female</td>\n",
       "      <td>39.0</td>\n",
       "      <td>0</td>\n",
       "      <td>5</td>\n",
       "      <td>29.1250</td>\n",
       "      <td>Q</td>\n",
       "      <td>Third</td>\n",
       "      <td>woman</td>\n",
       "      <td>False</td>\n",
       "      <td>NaN</td>\n",
       "      <td>Queenstown</td>\n",
       "      <td>no</td>\n",
       "      <td>False</td>\n",
       "    </tr>\n",
       "    <tr>\n",
       "      <th>886</th>\n",
       "      <td>0</td>\n",
       "      <td>2</td>\n",
       "      <td>male</td>\n",
       "      <td>27.0</td>\n",
       "      <td>0</td>\n",
       "      <td>0</td>\n",
       "      <td>13.0000</td>\n",
       "      <td>S</td>\n",
       "      <td>Second</td>\n",
       "      <td>man</td>\n",
       "      <td>True</td>\n",
       "      <td>NaN</td>\n",
       "      <td>Southampton</td>\n",
       "      <td>no</td>\n",
       "      <td>True</td>\n",
       "    </tr>\n",
       "    <tr>\n",
       "      <th>888</th>\n",
       "      <td>0</td>\n",
       "      <td>3</td>\n",
       "      <td>female</td>\n",
       "      <td>NaN</td>\n",
       "      <td>1</td>\n",
       "      <td>2</td>\n",
       "      <td>23.4500</td>\n",
       "      <td>S</td>\n",
       "      <td>Third</td>\n",
       "      <td>woman</td>\n",
       "      <td>False</td>\n",
       "      <td>NaN</td>\n",
       "      <td>Southampton</td>\n",
       "      <td>no</td>\n",
       "      <td>False</td>\n",
       "    </tr>\n",
       "    <tr>\n",
       "      <th>890</th>\n",
       "      <td>0</td>\n",
       "      <td>3</td>\n",
       "      <td>male</td>\n",
       "      <td>32.0</td>\n",
       "      <td>0</td>\n",
       "      <td>0</td>\n",
       "      <td>7.7500</td>\n",
       "      <td>Q</td>\n",
       "      <td>Third</td>\n",
       "      <td>man</td>\n",
       "      <td>True</td>\n",
       "      <td>NaN</td>\n",
       "      <td>Queenstown</td>\n",
       "      <td>no</td>\n",
       "      <td>True</td>\n",
       "    </tr>\n",
       "  </tbody>\n",
       "</table>\n",
       "<p>709 rows × 15 columns</p>\n",
       "</div>"
      ],
      "text/plain": [
       "     survived  pclass     sex   age  sibsp  parch     fare embarked   class  \\\n",
       "0           0       3    male  22.0      1      0   7.2500        S   Third   \n",
       "2           1       3  female  26.0      0      0   7.9250        S   Third   \n",
       "4           0       3    male  35.0      0      0   8.0500        S   Third   \n",
       "5           0       3    male   NaN      0      0   8.4583        Q   Third   \n",
       "7           0       3    male   2.0      3      1  21.0750        S   Third   \n",
       "..        ...     ...     ...   ...    ...    ...      ...      ...     ...   \n",
       "884         0       3    male  25.0      0      0   7.0500        S   Third   \n",
       "885         0       3  female  39.0      0      5  29.1250        Q   Third   \n",
       "886         0       2    male  27.0      0      0  13.0000        S  Second   \n",
       "888         0       3  female   NaN      1      2  23.4500        S   Third   \n",
       "890         0       3    male  32.0      0      0   7.7500        Q   Third   \n",
       "\n",
       "       who  adult_male deck  embark_town alive  alone  \n",
       "0      man        True  NaN  Southampton    no  False  \n",
       "2    woman       False  NaN  Southampton   yes   True  \n",
       "4      man        True  NaN  Southampton    no   True  \n",
       "5      man        True  NaN   Queenstown    no   True  \n",
       "7    child       False  NaN  Southampton    no  False  \n",
       "..     ...         ...  ...          ...   ...    ...  \n",
       "884    man        True  NaN  Southampton    no   True  \n",
       "885  woman       False  NaN   Queenstown    no  False  \n",
       "886    man        True  NaN  Southampton    no   True  \n",
       "888  woman       False  NaN  Southampton    no  False  \n",
       "890    man        True  NaN   Queenstown    no   True  \n",
       "\n",
       "[709 rows x 15 columns]"
      ]
     },
     "execution_count": 59,
     "metadata": {},
     "output_type": "execute_result"
    }
   ],
   "source": [
    "df[df.isnull().any(axis=1)]"
   ]
  },
  {
   "cell_type": "markdown",
   "metadata": {},
   "source": [
    "Check for any missing rows."
   ]
  },
  {
   "cell_type": "code",
   "execution_count": 60,
   "metadata": {},
   "outputs": [
    {
     "name": "stdout",
     "output_type": "stream",
     "text": [
      "Number of empty records = 0\n"
     ]
    },
    {
     "data": {
      "text/html": [
       "<div>\n",
       "<style scoped>\n",
       "    .dataframe tbody tr th:only-of-type {\n",
       "        vertical-align: middle;\n",
       "    }\n",
       "\n",
       "    .dataframe tbody tr th {\n",
       "        vertical-align: top;\n",
       "    }\n",
       "\n",
       "    .dataframe thead th {\n",
       "        text-align: right;\n",
       "    }\n",
       "</style>\n",
       "<table border=\"1\" class=\"dataframe\">\n",
       "  <thead>\n",
       "    <tr style=\"text-align: right;\">\n",
       "      <th></th>\n",
       "      <th>survived</th>\n",
       "      <th>pclass</th>\n",
       "      <th>sex</th>\n",
       "      <th>age</th>\n",
       "      <th>sibsp</th>\n",
       "      <th>parch</th>\n",
       "      <th>fare</th>\n",
       "      <th>embarked</th>\n",
       "      <th>class</th>\n",
       "      <th>who</th>\n",
       "      <th>adult_male</th>\n",
       "      <th>deck</th>\n",
       "      <th>embark_town</th>\n",
       "      <th>alive</th>\n",
       "      <th>alone</th>\n",
       "    </tr>\n",
       "  </thead>\n",
       "  <tbody>\n",
       "  </tbody>\n",
       "</table>\n",
       "</div>"
      ],
      "text/plain": [
       "Empty DataFrame\n",
       "Columns: [survived, pclass, sex, age, sibsp, parch, fare, embarked, class, who, adult_male, deck, embark_town, alive, alone]\n",
       "Index: []"
      ]
     },
     "execution_count": 60,
     "metadata": {},
     "output_type": "execute_result"
    }
   ],
   "source": [
    "print(f\"Number of empty records = {df.isnull().all(axis=1).sum()}\")\n",
    "df[df.isnull().all(axis=1)]\n"
   ]
  },
  {
   "cell_type": "markdown",
   "metadata": {},
   "source": [
    "Missing values from each feature, as well as the percentage of misses."
   ]
  },
  {
   "cell_type": "code",
   "execution_count": 61,
   "metadata": {},
   "outputs": [
    {
     "name": "stdout",
     "output_type": "stream",
     "text": [
      "The number of records where deck is missing equals 688\n",
      "The proportion of records where deck is missing equals 77.21661054994388%\n",
      "The number of records where age is missing equals 177\n",
      "The proportion of records where age is missing equals 19.865319865319865%\n",
      "The number of records where embarked is missing equals 2\n",
      "The proportion of records where embarked is missing equals 0.2244668911335578%\n",
      "The number of records where embark_town is missing equals 2\n",
      "The proportion of records where embark_town is missing equals 0.2244668911335578%\n"
     ]
    }
   ],
   "source": [
    "print(f\"The number of records where deck is missing equals {df.isnull()['deck'].sum()}\")\n",
    "print(f\"The proportion of records where deck is missing equals {100*df.isnull()['deck'].sum()/df.shape[0]}%\")\n",
    "\n",
    "print(f\"The number of records where age is missing equals {df.isnull()['age'].sum()}\")\n",
    "print(f\"The proportion of records where age is missing equals {100*df.isnull()['age'].sum()/df.shape[0]}%\")\n",
    "\n",
    "print(f\"The number of records where embarked is missing equals {df.isnull()['embarked'].sum()}\")\n",
    "print(f\"The proportion of records where embarked is missing equals {100*df.isnull()['embarked'].sum()/df.shape[0]}%\")\n",
    "\n",
    "print(f\"The number of records where embark_town is missing equals {df.isnull()['embark_town'].sum()}\")\n",
    "print(f\"The proportion of records where embark_town is missing equals {100*df.isnull()['embark_town'].sum()/df.shape[0]}%\")"
   ]
  },
  {
   "cell_type": "markdown",
   "metadata": {},
   "source": [
    "Dealing with the missing values, embark_town/embarked missing data is so small so either drop them or impute\n",
    "(missing data in embarked and embark_town are in the same row).\n",
    "Here they will be droped."
   ]
  },
  {
   "cell_type": "code",
   "execution_count": 62,
   "metadata": {},
   "outputs": [
    {
     "name": "stdout",
     "output_type": "stream",
     "text": [
      "survived         0\n",
      "pclass           0\n",
      "sex              0\n",
      "age            177\n",
      "sibsp            0\n",
      "parch            0\n",
      "fare             0\n",
      "embarked         0\n",
      "class            0\n",
      "who              0\n",
      "adult_male       0\n",
      "deck           688\n",
      "embark_town      0\n",
      "alive            0\n",
      "alone            0\n",
      "dtype: int64\n"
     ]
    }
   ],
   "source": [
    "\n",
    "df.dropna(subset='embark_town', inplace=True)\n",
    "df.dropna(subset='embarked', inplace=True)\n",
    "\n",
    "print(df.isnull().sum())"
   ]
  },
  {
   "cell_type": "markdown",
   "metadata": {},
   "source": [
    "Plot age, to detect outliers."
   ]
  },
  {
   "cell_type": "code",
   "execution_count": 63,
   "metadata": {},
   "outputs": [
    {
     "data": {
      "image/png": "[encoded data removed]",
      "text/plain": [
       "<Figure size 640x480 with 1 Axes>"
      ]
     },
     "metadata": {},
     "output_type": "display_data"
    },
    {
     "data": {
      "image/png": "[encoded data removed]",
      "text/plain": [
       "<Figure size 640x480 with 1 Axes>"
      ]
     },
     "metadata": {},
     "output_type": "display_data"
    }
   ],
   "source": [
    "sns.boxplot(x = \"age\", data = df)\n",
    "plt.show()\n",
    "sns.violinplot(x = \"age\", data = df)\n",
    "plt.show()\n"
   ]
  },
  {
   "cell_type": "markdown",
   "metadata": {},
   "source": [
    "Impute age with median."
   ]
  },
  {
   "cell_type": "code",
   "execution_count": 64,
   "metadata": {},
   "outputs": [],
   "source": [
    "# Impute missing 'age' values with median\n",
    "median_age = df['age'].median()\n",
    "df['age'].fillna(median_age, inplace=True)"
   ]
  },
  {
   "cell_type": "code",
   "execution_count": 65,
   "metadata": {},
   "outputs": [
    {
     "name": "stdout",
     "output_type": "stream",
     "text": [
      "survived         0\n",
      "pclass           0\n",
      "sex              0\n",
      "age              0\n",
      "sibsp            0\n",
      "parch            0\n",
      "fare             0\n",
      "embarked         0\n",
      "class            0\n",
      "who              0\n",
      "adult_male       0\n",
      "deck           688\n",
      "embark_town      0\n",
      "alive            0\n",
      "alone            0\n",
      "dtype: int64\n"
     ]
    }
   ],
   "source": [
    "print(df.isnull().sum())"
   ]
  },
  {
   "cell_type": "markdown",
   "metadata": {},
   "source": [
    "Imputation caused more outliers. "
   ]
  },
  {
   "cell_type": "code",
   "execution_count": 66,
   "metadata": {},
   "outputs": [
    {
     "data": {
      "image/png": "[encoded data removed]",
      "text/plain": [
       "<Figure size 640x480 with 1 Axes>"
      ]
     },
     "metadata": {},
     "output_type": "display_data"
    },
    {
     "data": {
      "image/png": "[encoded data removed]",
      "text/plain": [
       "<Figure size 640x480 with 1 Axes>"
      ]
     },
     "metadata": {},
     "output_type": "display_data"
    }
   ],
   "source": [
    "sns.boxplot(x = \"age\", data = df)\n",
    "plt.show()\n",
    "sns.violinplot(x = \"age\", data = df)\n",
    "plt.show()\n"
   ]
  },
  {
   "cell_type": "markdown",
   "metadata": {},
   "source": [
    "Deck feature will be droped due to the very high number of missing value thats more than 70% of the whole feature, as well as the smaller impact it has on the data."
   ]
  },
  {
   "cell_type": "code",
   "execution_count": 67,
   "metadata": {},
   "outputs": [],
   "source": [
    "# Assuming you have loaded your data into a DataFrame named 'df'\n",
    "df.drop('deck', axis=1, inplace=True)\n"
   ]
  },
  {
   "cell_type": "code",
   "execution_count": 68,
   "metadata": {},
   "outputs": [
    {
     "data": {
      "text/plain": [
       "survived       0\n",
       "pclass         0\n",
       "sex            0\n",
       "age            0\n",
       "sibsp          0\n",
       "parch          0\n",
       "fare           0\n",
       "embarked       0\n",
       "class          0\n",
       "who            0\n",
       "adult_male     0\n",
       "embark_town    0\n",
       "alive          0\n",
       "alone          0\n",
       "dtype: int64"
      ]
     },
     "execution_count": 68,
     "metadata": {},
     "output_type": "execute_result"
    }
   ],
   "source": [
    "df.isnull().sum()"
   ]
  },
  {
   "cell_type": "markdown",
   "metadata": {},
   "source": [
    "Detecting outliers after dealing with the missing values. Using IQR."
   ]
  },
  {
   "cell_type": "code",
   "execution_count": 69,
   "metadata": {},
   "outputs": [
    {
     "name": "stdout",
     "output_type": "stream",
     "text": [
      "Column: survived\n",
      "25th Percentile: 0.0\n",
      "75th Percentile: 1.0\n",
      "Interquartile Range (IQR): 1.0\n",
      "\n",
      "Column: pclass\n",
      "25th Percentile: 2.0\n",
      "75th Percentile: 3.0\n",
      "Interquartile Range (IQR): 1.0\n",
      "\n",
      "Column: age\n",
      "25th Percentile: 22.0\n",
      "75th Percentile: 35.0\n",
      "Interquartile Range (IQR): 13.0\n",
      "\n",
      "Column: sibsp\n",
      "25th Percentile: 0.0\n",
      "75th Percentile: 1.0\n",
      "Interquartile Range (IQR): 1.0\n",
      "\n",
      "Column: fare\n",
      "25th Percentile: 7.8958\n",
      "75th Percentile: 31.0\n",
      "Interquartile Range (IQR): 23.1042\n",
      "\n"
     ]
    }
   ],
   "source": [
    "\n",
    "\n",
    "columns = ['survived', 'pclass', 'age', 'sibsp', 'fare']\n",
    "\n",
    "# Loop through each column and compute percentiles and IQR\n",
    "for column in columns:\n",
    "    # Compute percentiles\n",
    "    percentile_25 = df[column].quantile(0.25)\n",
    "    percentile_75 = df[column].quantile(0.75)\n",
    "\n",
    "    print(\"Column:\", column)\n",
    "    print(\"25th Percentile:\", percentile_25)\n",
    "    print(\"75th Percentile:\", percentile_75)\n",
    "\n",
    "    # Compute interquartile range (IQR)\n",
    "    iqr = percentile_75 - percentile_25\n",
    "    print(\"Interquartile Range (IQR):\", iqr)\n",
    "    print()\n"
   ]
  },
  {
   "cell_type": "markdown",
   "metadata": {},
   "source": [
    "Age caused an increase of outliers, will be further analyzing it."
   ]
  },
  {
   "cell_type": "code",
   "execution_count": 70,
   "metadata": {},
   "outputs": [
    {
     "name": "stdout",
     "output_type": "stream",
     "text": [
      "Minimum Age in Years ~ 0.42\n",
      "Maximum Age in Years ~ 80.0\n",
      "Mean Age in Years ~ 29.315151856017994\n"
     ]
    }
   ],
   "source": [
    "print(f\"Minimum Age in Years ~ {(df['age'].min() )}\")\n",
    "print(f\"Maximum Age in Years ~ {(df['age'].max())}\")\n",
    "print(f\"Mean Age in Years ~ {(df['age'].mean() )}\")"
   ]
  },
  {
   "cell_type": "code",
   "execution_count": 71,
   "metadata": {},
   "outputs": [
    {
     "name": "stdout",
     "output_type": "stream",
     "text": [
      "25th Percentile: 22.0\n",
      "50th Percentile: 28.0\n",
      "75th Percentile: 35.0\n",
      "Interquartile Range (IQR): 13.0\n",
      "Lower Bound = 2.5, and Upper Bound = 54.5\n"
     ]
    }
   ],
   "source": [
    "# Compute percentiles using Pandas quantile() function\n",
    "percentile_25 = df['age'].quantile(0.25)\n",
    "percentile_50 = df['age'].quantile(0.5)\n",
    "percentile_75 = df['age'].quantile(0.75)\n",
    "\n",
    "print(\"25th Percentile:\", percentile_25)\n",
    "print(\"50th Percentile:\", percentile_50)\n",
    "print(\"75th Percentile:\", percentile_75) \n",
    "\n",
    "# Compute interquartile range (IQR)\n",
    "iqr = percentile_75 - percentile_25\n",
    "print(\"Interquartile Range (IQR):\", iqr)\n",
    "\n",
    "LowerBound_age = percentile_25 - 1.5*iqr\n",
    "UpperBound_age = percentile_75 + 1.5*iqr\n",
    "print(f\"Lower Bound = {LowerBound_age}, and Upper Bound = {UpperBound_age}\")"
   ]
  },
  {
   "cell_type": "code",
   "execution_count": 72,
   "metadata": {},
   "outputs": [
    {
     "name": "stdout",
     "output_type": "stream",
     "text": [
      "Number of outliers based on the Interquartile Range and Boxplots is 65 (7.311586051743532%)\n"
     ]
    }
   ],
   "source": [
    "NumRecordsBefore=df.shape[0]\n",
    "DroppedRecords=df[(df['age'] < LowerBound_age) | (df['age'] > UpperBound_age)].shape[0]\n",
    "print(f\"Number of outliers based on the Interquartile Range and Boxplots is {DroppedRecords} ({100*DroppedRecords/NumRecordsBefore}%)\")"
   ]
  },
  {
   "cell_type": "markdown",
   "metadata": {},
   "source": [
    "Handling outliers in the age feature."
   ]
  },
  {
   "cell_type": "code",
   "execution_count": 73,
   "metadata": {},
   "outputs": [],
   "source": [
    "Q1 = 22.0  # 25th percentile\n",
    "Q3 = 35.0  # 75th percentile\n",
    "IQR = Q3 - Q1\n",
    "lower_bound = Q1 - 1.5 * IQR\n",
    "upper_bound = Q3 + 1.5 * IQR\n",
    "\n",
    "df[\"age\"] = np.clip(df[\"age\"], lower_bound, upper_bound)\n"
   ]
  },
  {
   "cell_type": "markdown",
   "metadata": {},
   "source": [
    "Now less outliers."
   ]
  },
  {
   "cell_type": "code",
   "execution_count": 74,
   "metadata": {},
   "outputs": [
    {
     "data": {
      "image/png": "[encoded data removed]",
      "text/plain": [
       "<Figure size 640x480 with 1 Axes>"
      ]
     },
     "metadata": {},
     "output_type": "display_data"
    }
   ],
   "source": [
    "sns.boxplot(x = \"age\", data = df)\n",
    "plt.show()\n"
   ]
  },
  {
   "cell_type": "code",
   "execution_count": 75,
   "metadata": {},
   "outputs": [
    {
     "data": {
      "text/html": [
       "<div>\n",
       "<style scoped>\n",
       "    .dataframe tbody tr th:only-of-type {\n",
       "        vertical-align: middle;\n",
       "    }\n",
       "\n",
       "    .dataframe tbody tr th {\n",
       "        vertical-align: top;\n",
       "    }\n",
       "\n",
       "    .dataframe thead th {\n",
       "        text-align: right;\n",
       "    }\n",
       "</style>\n",
       "<table border=\"1\" class=\"dataframe\">\n",
       "  <thead>\n",
       "    <tr style=\"text-align: right;\">\n",
       "      <th></th>\n",
       "      <th>survived</th>\n",
       "      <th>pclass</th>\n",
       "      <th>sex</th>\n",
       "      <th>age</th>\n",
       "      <th>sibsp</th>\n",
       "      <th>parch</th>\n",
       "      <th>fare</th>\n",
       "      <th>embarked</th>\n",
       "      <th>class</th>\n",
       "      <th>who</th>\n",
       "      <th>adult_male</th>\n",
       "      <th>embark_town</th>\n",
       "      <th>alive</th>\n",
       "      <th>alone</th>\n",
       "    </tr>\n",
       "  </thead>\n",
       "  <tbody>\n",
       "    <tr>\n",
       "      <th>0</th>\n",
       "      <td>0</td>\n",
       "      <td>3</td>\n",
       "      <td>male</td>\n",
       "      <td>22.0</td>\n",
       "      <td>1</td>\n",
       "      <td>0</td>\n",
       "      <td>7.2500</td>\n",
       "      <td>S</td>\n",
       "      <td>Third</td>\n",
       "      <td>man</td>\n",
       "      <td>True</td>\n",
       "      <td>Southampton</td>\n",
       "      <td>no</td>\n",
       "      <td>False</td>\n",
       "    </tr>\n",
       "    <tr>\n",
       "      <th>1</th>\n",
       "      <td>1</td>\n",
       "      <td>1</td>\n",
       "      <td>female</td>\n",
       "      <td>38.0</td>\n",
       "      <td>1</td>\n",
       "      <td>0</td>\n",
       "      <td>71.2833</td>\n",
       "      <td>C</td>\n",
       "      <td>First</td>\n",
       "      <td>woman</td>\n",
       "      <td>False</td>\n",
       "      <td>Cherbourg</td>\n",
       "      <td>yes</td>\n",
       "      <td>False</td>\n",
       "    </tr>\n",
       "    <tr>\n",
       "      <th>2</th>\n",
       "      <td>1</td>\n",
       "      <td>3</td>\n",
       "      <td>female</td>\n",
       "      <td>26.0</td>\n",
       "      <td>0</td>\n",
       "      <td>0</td>\n",
       "      <td>7.9250</td>\n",
       "      <td>S</td>\n",
       "      <td>Third</td>\n",
       "      <td>woman</td>\n",
       "      <td>False</td>\n",
       "      <td>Southampton</td>\n",
       "      <td>yes</td>\n",
       "      <td>True</td>\n",
       "    </tr>\n",
       "    <tr>\n",
       "      <th>3</th>\n",
       "      <td>1</td>\n",
       "      <td>1</td>\n",
       "      <td>female</td>\n",
       "      <td>35.0</td>\n",
       "      <td>1</td>\n",
       "      <td>0</td>\n",
       "      <td>53.1000</td>\n",
       "      <td>S</td>\n",
       "      <td>First</td>\n",
       "      <td>woman</td>\n",
       "      <td>False</td>\n",
       "      <td>Southampton</td>\n",
       "      <td>yes</td>\n",
       "      <td>False</td>\n",
       "    </tr>\n",
       "    <tr>\n",
       "      <th>4</th>\n",
       "      <td>0</td>\n",
       "      <td>3</td>\n",
       "      <td>male</td>\n",
       "      <td>35.0</td>\n",
       "      <td>0</td>\n",
       "      <td>0</td>\n",
       "      <td>8.0500</td>\n",
       "      <td>S</td>\n",
       "      <td>Third</td>\n",
       "      <td>man</td>\n",
       "      <td>True</td>\n",
       "      <td>Southampton</td>\n",
       "      <td>no</td>\n",
       "      <td>True</td>\n",
       "    </tr>\n",
       "  </tbody>\n",
       "</table>\n",
       "</div>"
      ],
      "text/plain": [
       "   survived  pclass     sex   age  sibsp  parch     fare embarked  class  \\\n",
       "0         0       3    male  22.0      1      0   7.2500        S  Third   \n",
       "1         1       1  female  38.0      1      0  71.2833        C  First   \n",
       "2         1       3  female  26.0      0      0   7.9250        S  Third   \n",
       "3         1       1  female  35.0      1      0  53.1000        S  First   \n",
       "4         0       3    male  35.0      0      0   8.0500        S  Third   \n",
       "\n",
       "     who  adult_male  embark_town alive  alone  \n",
       "0    man        True  Southampton    no  False  \n",
       "1  woman       False    Cherbourg   yes  False  \n",
       "2  woman       False  Southampton   yes   True  \n",
       "3  woman       False  Southampton   yes  False  \n",
       "4    man        True  Southampton    no   True  "
      ]
     },
     "execution_count": 75,
     "metadata": {},
     "output_type": "execute_result"
    }
   ],
   "source": [
    "df.head()"
   ]
  },
  {
   "cell_type": "code",
   "execution_count": 76,
   "metadata": {},
   "outputs": [
    {
     "name": "stdout",
     "output_type": "stream",
     "text": [
      "Number of outliers based on the Interquartile Range and Boxplots is 0 (0.0%)\n"
     ]
    }
   ],
   "source": [
    "NumRecordsBefore=df.shape[0]\n",
    "DroppedRecords=df[(df['age'] < LowerBound_age) | (df['age'] > UpperBound_age)].shape[0]\n",
    "print(f\"Number of outliers based on the Interquartile Range and Boxplots is {DroppedRecords} ({100*DroppedRecords/NumRecordsBefore}%)\")"
   ]
  },
  {
   "cell_type": "markdown",
   "metadata": {},
   "source": [
    "Handling all possible outliers"
   ]
  },
  {
   "cell_type": "code",
   "execution_count": 77,
   "metadata": {},
   "outputs": [],
   "source": [
    "def detect_outliers_and_clip(df):\n",
    "    for column in df.select_dtypes(include=['int64', 'float64']).columns:\n",
    "        Q1 = df[column].quantile(0.25)\n",
    "        Q3 = df[column].quantile(0.75)\n",
    "        IQR = Q3 - Q1\n",
    "        lower_bound = Q1 - 1.5 * IQR\n",
    "        upper_bound = Q3 + 1.5 * IQR\n",
    "        df[column] = np.clip(df[column], lower_bound, upper_bound)\n",
    "    return df\n",
    "\n",
    "# Call the function to detect outliers and clip values for all numerical columns\n",
    "df = detect_outliers_and_clip(df)"
   ]
  },
  {
   "cell_type": "markdown",
   "metadata": {},
   "source": [
    "Using One hot encoding to encode catagorical features into numerical format suitable for machine learning models."
   ]
  },
  {
   "cell_type": "code",
   "execution_count": 78,
   "metadata": {},
   "outputs": [
    {
     "name": "stdout",
     "output_type": "stream",
     "text": [
      "   survived  pclass   age  sibsp  parch     fare  sex_female  sex_male  \\\n",
      "0         0       3  22.0    1.0      0   7.2500           0         1   \n",
      "1         1       1  38.0    1.0      0  65.6563           1         0   \n",
      "2         1       3  26.0    0.0      0   7.9250           1         0   \n",
      "3         1       1  35.0    1.0      0  53.1000           1         0   \n",
      "4         0       3  35.0    0.0      0   8.0500           0         1   \n",
      "\n",
      "   embarked_C  embarked_Q  embarked_S  who_child  who_man  who_woman  \\\n",
      "0           0           0           1          0        1          0   \n",
      "1           1           0           0          0        0          1   \n",
      "2           0           0           1          0        0          1   \n",
      "3           0           0           1          0        0          1   \n",
      "4           0           0           1          0        1          0   \n",
      "\n",
      "   embark_town_Cherbourg  embark_town_Queenstown  embark_town_Southampton  \\\n",
      "0                      0                       0                        1   \n",
      "1                      1                       0                        0   \n",
      "2                      0                       0                        1   \n",
      "3                      0                       0                        1   \n",
      "4                      0                       0                        1   \n",
      "\n",
      "   alive_no  alive_yes  \n",
      "0         1          0  \n",
      "1         0          1  \n",
      "2         0          1  \n",
      "3         0          1  \n",
      "4         1          0  \n"
     ]
    }
   ],
   "source": [
    "import pandas as pd\n",
    "\n",
    "categorical_features = df.drop('survived', axis=1).select_dtypes(include=['object'])  # Select categorical features\n",
    "\n",
    "# One-hot encode the categorical features\n",
    "df_encoded = pd.concat([df, pd.get_dummies(categorical_features, dtype=int)], axis=1)\n",
    "\n",
    "# Drop the original categorical features\n",
    "df_encoded.drop(categorical_features.columns, axis=1, inplace=True)\n",
    "df_encoded.drop('class', axis=1, inplace=True)\n",
    "df_encoded.drop('adult_male', axis=1, inplace=True)\n",
    "df_encoded.drop('alone', axis=1, inplace=True)\n",
    "\n",
    "\n",
    "print(df_encoded.head())  # View the first few rows of the encoded DataFrame\n"
   ]
  },
  {
   "cell_type": "code",
   "execution_count": 79,
   "metadata": {},
   "outputs": [
    {
     "data": {
      "text/plain": [
       "survived                   0\n",
       "pclass                     0\n",
       "age                        0\n",
       "sibsp                      0\n",
       "parch                      0\n",
       "fare                       0\n",
       "sex_female                 0\n",
       "sex_male                   0\n",
       "embarked_C                 0\n",
       "embarked_Q                 0\n",
       "embarked_S                 0\n",
       "who_child                  0\n",
       "who_man                    0\n",
       "who_woman                  0\n",
       "embark_town_Cherbourg      0\n",
       "embark_town_Queenstown     0\n",
       "embark_town_Southampton    0\n",
       "alive_no                   0\n",
       "alive_yes                  0\n",
       "dtype: int64"
      ]
     },
     "execution_count": 79,
     "metadata": {},
     "output_type": "execute_result"
    }
   ],
   "source": [
    "df_encoded.isnull().sum()"
   ]
  },
  {
   "cell_type": "code",
   "execution_count": 80,
   "metadata": {},
   "outputs": [
    {
     "data": {
      "text/html": [
       "<div>\n",
       "<style scoped>\n",
       "    .dataframe tbody tr th:only-of-type {\n",
       "        vertical-align: middle;\n",
       "    }\n",
       "\n",
       "    .dataframe tbody tr th {\n",
       "        vertical-align: top;\n",
       "    }\n",
       "\n",
       "    .dataframe thead th {\n",
       "        text-align: right;\n",
       "    }\n",
       "</style>\n",
       "<table border=\"1\" class=\"dataframe\">\n",
       "  <thead>\n",
       "    <tr style=\"text-align: right;\">\n",
       "      <th></th>\n",
       "      <th>survived</th>\n",
       "      <th>pclass</th>\n",
       "      <th>age</th>\n",
       "      <th>sibsp</th>\n",
       "      <th>parch</th>\n",
       "      <th>fare</th>\n",
       "      <th>sex_female</th>\n",
       "      <th>sex_male</th>\n",
       "      <th>embarked_C</th>\n",
       "      <th>embarked_Q</th>\n",
       "      <th>embarked_S</th>\n",
       "      <th>who_child</th>\n",
       "      <th>who_man</th>\n",
       "      <th>who_woman</th>\n",
       "      <th>embark_town_Cherbourg</th>\n",
       "      <th>embark_town_Queenstown</th>\n",
       "      <th>embark_town_Southampton</th>\n",
       "      <th>alive_no</th>\n",
       "      <th>alive_yes</th>\n",
       "    </tr>\n",
       "  </thead>\n",
       "  <tbody>\n",
       "    <tr>\n",
       "      <th>0</th>\n",
       "      <td>0</td>\n",
       "      <td>3</td>\n",
       "      <td>22.0</td>\n",
       "      <td>1.0</td>\n",
       "      <td>0</td>\n",
       "      <td>7.2500</td>\n",
       "      <td>0</td>\n",
       "      <td>1</td>\n",
       "      <td>0</td>\n",
       "      <td>0</td>\n",
       "      <td>1</td>\n",
       "      <td>0</td>\n",
       "      <td>1</td>\n",
       "      <td>0</td>\n",
       "      <td>0</td>\n",
       "      <td>0</td>\n",
       "      <td>1</td>\n",
       "      <td>1</td>\n",
       "      <td>0</td>\n",
       "    </tr>\n",
       "    <tr>\n",
       "      <th>1</th>\n",
       "      <td>1</td>\n",
       "      <td>1</td>\n",
       "      <td>38.0</td>\n",
       "      <td>1.0</td>\n",
       "      <td>0</td>\n",
       "      <td>65.6563</td>\n",
       "      <td>1</td>\n",
       "      <td>0</td>\n",
       "      <td>1</td>\n",
       "      <td>0</td>\n",
       "      <td>0</td>\n",
       "      <td>0</td>\n",
       "      <td>0</td>\n",
       "      <td>1</td>\n",
       "      <td>1</td>\n",
       "      <td>0</td>\n",
       "      <td>0</td>\n",
       "      <td>0</td>\n",
       "      <td>1</td>\n",
       "    </tr>\n",
       "    <tr>\n",
       "      <th>2</th>\n",
       "      <td>1</td>\n",
       "      <td>3</td>\n",
       "      <td>26.0</td>\n",
       "      <td>0.0</td>\n",
       "      <td>0</td>\n",
       "      <td>7.9250</td>\n",
       "      <td>1</td>\n",
       "      <td>0</td>\n",
       "      <td>0</td>\n",
       "      <td>0</td>\n",
       "      <td>1</td>\n",
       "      <td>0</td>\n",
       "      <td>0</td>\n",
       "      <td>1</td>\n",
       "      <td>0</td>\n",
       "      <td>0</td>\n",
       "      <td>1</td>\n",
       "      <td>0</td>\n",
       "      <td>1</td>\n",
       "    </tr>\n",
       "    <tr>\n",
       "      <th>3</th>\n",
       "      <td>1</td>\n",
       "      <td>1</td>\n",
       "      <td>35.0</td>\n",
       "      <td>1.0</td>\n",
       "      <td>0</td>\n",
       "      <td>53.1000</td>\n",
       "      <td>1</td>\n",
       "      <td>0</td>\n",
       "      <td>0</td>\n",
       "      <td>0</td>\n",
       "      <td>1</td>\n",
       "      <td>0</td>\n",
       "      <td>0</td>\n",
       "      <td>1</td>\n",
       "      <td>0</td>\n",
       "      <td>0</td>\n",
       "      <td>1</td>\n",
       "      <td>0</td>\n",
       "      <td>1</td>\n",
       "    </tr>\n",
       "    <tr>\n",
       "      <th>4</th>\n",
       "      <td>0</td>\n",
       "      <td>3</td>\n",
       "      <td>35.0</td>\n",
       "      <td>0.0</td>\n",
       "      <td>0</td>\n",
       "      <td>8.0500</td>\n",
       "      <td>0</td>\n",
       "      <td>1</td>\n",
       "      <td>0</td>\n",
       "      <td>0</td>\n",
       "      <td>1</td>\n",
       "      <td>0</td>\n",
       "      <td>1</td>\n",
       "      <td>0</td>\n",
       "      <td>0</td>\n",
       "      <td>0</td>\n",
       "      <td>1</td>\n",
       "      <td>1</td>\n",
       "      <td>0</td>\n",
       "    </tr>\n",
       "  </tbody>\n",
       "</table>\n",
       "</div>"
      ],
      "text/plain": [
       "   survived  pclass   age  sibsp  parch     fare  sex_female  sex_male  \\\n",
       "0         0       3  22.0    1.0      0   7.2500           0         1   \n",
       "1         1       1  38.0    1.0      0  65.6563           1         0   \n",
       "2         1       3  26.0    0.0      0   7.9250           1         0   \n",
       "3         1       1  35.0    1.0      0  53.1000           1         0   \n",
       "4         0       3  35.0    0.0      0   8.0500           0         1   \n",
       "\n",
       "   embarked_C  embarked_Q  embarked_S  who_child  who_man  who_woman  \\\n",
       "0           0           0           1          0        1          0   \n",
       "1           1           0           0          0        0          1   \n",
       "2           0           0           1          0        0          1   \n",
       "3           0           0           1          0        0          1   \n",
       "4           0           0           1          0        1          0   \n",
       "\n",
       "   embark_town_Cherbourg  embark_town_Queenstown  embark_town_Southampton  \\\n",
       "0                      0                       0                        1   \n",
       "1                      1                       0                        0   \n",
       "2                      0                       0                        1   \n",
       "3                      0                       0                        1   \n",
       "4                      0                       0                        1   \n",
       "\n",
       "   alive_no  alive_yes  \n",
       "0         1          0  \n",
       "1         0          1  \n",
       "2         0          1  \n",
       "3         0          1  \n",
       "4         1          0  "
      ]
     },
     "execution_count": 80,
     "metadata": {},
     "output_type": "execute_result"
    }
   ],
   "source": [
    "df_encoded.head()"
   ]
  },
  {
   "cell_type": "markdown",
   "metadata": {},
   "source": [
    "Features relevance."
   ]
  },
  {
   "cell_type": "code",
   "execution_count": 81,
   "metadata": {},
   "outputs": [
    {
     "name": "stdout",
     "output_type": "stream",
     "text": [
      "alive_no: 114134081985074256.0000\n",
      "who_man: 395.9097\n",
      "sex_female: 368.1547\n",
      "sex_male: 368.1547\n",
      "who_woman: 302.7731\n",
      "pclass: 112.5414\n",
      "fare: 96.7864\n",
      "embarked_C: 26.3863\n",
      "embark_town_Cherbourg: 26.3863\n",
      "embarked_S: 20.9150\n",
      "embark_town_Southampton: 20.9150\n",
      "who_child: 17.0384\n",
      "age: 3.7621\n",
      "sibsp: 0.9802\n",
      "embarked_Q: 0.0182\n",
      "embark_town_Queenstown: 0.0182\n",
      "parch: 0.0000\n",
      "survived: -249668304342352768.0000\n",
      "alive_yes: -249668304342352768.0000\n"
     ]
    }
   ],
   "source": [
    "from sklearn.feature_selection import SelectKBest, f_regression\n",
    "\n",
    "\n",
    "# Define the target variable (assuming \"survived\")\n",
    "target_col = \"survived\"\n",
    "\n",
    "# Create a SelectKBest selector with f_regression for information gain\n",
    "selector = SelectKBest(score_func=f_regression, k=10)  # Select top 10 features\n",
    "\n",
    "# Fit the selector to the data and target variable\n",
    "selector.fit(df_encoded, df_encoded[target_col])\n",
    "\n",
    "# Get the scores for each feature\n",
    "feature_scores = selector.scores_\n",
    "\n",
    "# Get the feature names\n",
    "feature_names = df_encoded.columns.tolist()  # Assuming column names are strings\n",
    "\n",
    "# Print feature names and their corresponding scores (sorted by score in descending order)\n",
    "sorted_features = sorted(zip(feature_names, feature_scores), key=lambda x: x[1], reverse=True)\n",
    "for feature, score in sorted_features:\n",
    "    print(f\"{feature}: {score:.4f}\")\n"
   ]
  },
  {
   "cell_type": "code",
   "execution_count": 82,
   "metadata": {},
   "outputs": [
    {
     "data": {
      "text/html": [
       "<div>\n",
       "<style scoped>\n",
       "    .dataframe tbody tr th:only-of-type {\n",
       "        vertical-align: middle;\n",
       "    }\n",
       "\n",
       "    .dataframe tbody tr th {\n",
       "        vertical-align: top;\n",
       "    }\n",
       "\n",
       "    .dataframe thead th {\n",
       "        text-align: right;\n",
       "    }\n",
       "</style>\n",
       "<table border=\"1\" class=\"dataframe\">\n",
       "  <thead>\n",
       "    <tr style=\"text-align: right;\">\n",
       "      <th></th>\n",
       "      <th>survived</th>\n",
       "      <th>pclass</th>\n",
       "      <th>age</th>\n",
       "      <th>sibsp</th>\n",
       "      <th>parch</th>\n",
       "      <th>fare</th>\n",
       "      <th>sex_female</th>\n",
       "      <th>sex_male</th>\n",
       "      <th>embarked_C</th>\n",
       "      <th>embarked_Q</th>\n",
       "      <th>embarked_S</th>\n",
       "      <th>who_child</th>\n",
       "      <th>who_man</th>\n",
       "      <th>who_woman</th>\n",
       "      <th>embark_town_Cherbourg</th>\n",
       "      <th>embark_town_Queenstown</th>\n",
       "      <th>embark_town_Southampton</th>\n",
       "      <th>alive_no</th>\n",
       "      <th>alive_yes</th>\n",
       "    </tr>\n",
       "  </thead>\n",
       "  <tbody>\n",
       "    <tr>\n",
       "      <th>count</th>\n",
       "      <td>889.000000</td>\n",
       "      <td>889.000000</td>\n",
       "      <td>889.000000</td>\n",
       "      <td>889.000000</td>\n",
       "      <td>889.0</td>\n",
       "      <td>889.000000</td>\n",
       "      <td>889.000000</td>\n",
       "      <td>889.000000</td>\n",
       "      <td>889.000000</td>\n",
       "      <td>889.000000</td>\n",
       "      <td>889.000000</td>\n",
       "      <td>889.000000</td>\n",
       "      <td>889.000000</td>\n",
       "      <td>889.000000</td>\n",
       "      <td>889.000000</td>\n",
       "      <td>889.000000</td>\n",
       "      <td>889.000000</td>\n",
       "      <td>889.000000</td>\n",
       "      <td>889.000000</td>\n",
       "    </tr>\n",
       "    <tr>\n",
       "      <th>mean</th>\n",
       "      <td>0.382452</td>\n",
       "      <td>2.311586</td>\n",
       "      <td>29.000562</td>\n",
       "      <td>0.427447</td>\n",
       "      <td>0.0</td>\n",
       "      <td>23.956061</td>\n",
       "      <td>0.350956</td>\n",
       "      <td>0.649044</td>\n",
       "      <td>0.188976</td>\n",
       "      <td>0.086614</td>\n",
       "      <td>0.724409</td>\n",
       "      <td>0.093363</td>\n",
       "      <td>0.604049</td>\n",
       "      <td>0.302587</td>\n",
       "      <td>0.188976</td>\n",
       "      <td>0.086614</td>\n",
       "      <td>0.724409</td>\n",
       "      <td>0.617548</td>\n",
       "      <td>0.382452</td>\n",
       "    </tr>\n",
       "    <tr>\n",
       "      <th>std</th>\n",
       "      <td>0.486260</td>\n",
       "      <td>0.834700</td>\n",
       "      <td>12.051609</td>\n",
       "      <td>0.708753</td>\n",
       "      <td>0.0</td>\n",
       "      <td>20.414997</td>\n",
       "      <td>0.477538</td>\n",
       "      <td>0.477538</td>\n",
       "      <td>0.391710</td>\n",
       "      <td>0.281427</td>\n",
       "      <td>0.447063</td>\n",
       "      <td>0.291105</td>\n",
       "      <td>0.489329</td>\n",
       "      <td>0.459637</td>\n",
       "      <td>0.391710</td>\n",
       "      <td>0.281427</td>\n",
       "      <td>0.447063</td>\n",
       "      <td>0.486260</td>\n",
       "      <td>0.486260</td>\n",
       "    </tr>\n",
       "    <tr>\n",
       "      <th>min</th>\n",
       "      <td>0.000000</td>\n",
       "      <td>1.000000</td>\n",
       "      <td>2.500000</td>\n",
       "      <td>0.000000</td>\n",
       "      <td>0.0</td>\n",
       "      <td>0.000000</td>\n",
       "      <td>0.000000</td>\n",
       "      <td>0.000000</td>\n",
       "      <td>0.000000</td>\n",
       "      <td>0.000000</td>\n",
       "      <td>0.000000</td>\n",
       "      <td>0.000000</td>\n",
       "      <td>0.000000</td>\n",
       "      <td>0.000000</td>\n",
       "      <td>0.000000</td>\n",
       "      <td>0.000000</td>\n",
       "      <td>0.000000</td>\n",
       "      <td>0.000000</td>\n",
       "      <td>0.000000</td>\n",
       "    </tr>\n",
       "    <tr>\n",
       "      <th>25%</th>\n",
       "      <td>0.000000</td>\n",
       "      <td>2.000000</td>\n",
       "      <td>22.000000</td>\n",
       "      <td>0.000000</td>\n",
       "      <td>0.0</td>\n",
       "      <td>7.895800</td>\n",
       "      <td>0.000000</td>\n",
       "      <td>0.000000</td>\n",
       "      <td>0.000000</td>\n",
       "      <td>0.000000</td>\n",
       "      <td>0.000000</td>\n",
       "      <td>0.000000</td>\n",
       "      <td>0.000000</td>\n",
       "      <td>0.000000</td>\n",
       "      <td>0.000000</td>\n",
       "      <td>0.000000</td>\n",
       "      <td>0.000000</td>\n",
       "      <td>0.000000</td>\n",
       "      <td>0.000000</td>\n",
       "    </tr>\n",
       "    <tr>\n",
       "      <th>50%</th>\n",
       "      <td>0.000000</td>\n",
       "      <td>3.000000</td>\n",
       "      <td>28.000000</td>\n",
       "      <td>0.000000</td>\n",
       "      <td>0.0</td>\n",
       "      <td>14.454200</td>\n",
       "      <td>0.000000</td>\n",
       "      <td>1.000000</td>\n",
       "      <td>0.000000</td>\n",
       "      <td>0.000000</td>\n",
       "      <td>1.000000</td>\n",
       "      <td>0.000000</td>\n",
       "      <td>1.000000</td>\n",
       "      <td>0.000000</td>\n",
       "      <td>0.000000</td>\n",
       "      <td>0.000000</td>\n",
       "      <td>1.000000</td>\n",
       "      <td>1.000000</td>\n",
       "      <td>0.000000</td>\n",
       "    </tr>\n",
       "    <tr>\n",
       "      <th>75%</th>\n",
       "      <td>1.000000</td>\n",
       "      <td>3.000000</td>\n",
       "      <td>35.000000</td>\n",
       "      <td>1.000000</td>\n",
       "      <td>0.0</td>\n",
       "      <td>31.000000</td>\n",
       "      <td>1.000000</td>\n",
       "      <td>1.000000</td>\n",
       "      <td>0.000000</td>\n",
       "      <td>0.000000</td>\n",
       "      <td>1.000000</td>\n",
       "      <td>0.000000</td>\n",
       "      <td>1.000000</td>\n",
       "      <td>1.000000</td>\n",
       "      <td>0.000000</td>\n",
       "      <td>0.000000</td>\n",
       "      <td>1.000000</td>\n",
       "      <td>1.000000</td>\n",
       "      <td>1.000000</td>\n",
       "    </tr>\n",
       "    <tr>\n",
       "      <th>max</th>\n",
       "      <td>1.000000</td>\n",
       "      <td>3.000000</td>\n",
       "      <td>54.500000</td>\n",
       "      <td>2.500000</td>\n",
       "      <td>0.0</td>\n",
       "      <td>65.656300</td>\n",
       "      <td>1.000000</td>\n",
       "      <td>1.000000</td>\n",
       "      <td>1.000000</td>\n",
       "      <td>1.000000</td>\n",
       "      <td>1.000000</td>\n",
       "      <td>1.000000</td>\n",
       "      <td>1.000000</td>\n",
       "      <td>1.000000</td>\n",
       "      <td>1.000000</td>\n",
       "      <td>1.000000</td>\n",
       "      <td>1.000000</td>\n",
       "      <td>1.000000</td>\n",
       "      <td>1.000000</td>\n",
       "    </tr>\n",
       "  </tbody>\n",
       "</table>\n",
       "</div>"
      ],
      "text/plain": [
       "         survived      pclass         age       sibsp  parch        fare  \\\n",
       "count  889.000000  889.000000  889.000000  889.000000  889.0  889.000000   \n",
       "mean     0.382452    2.311586   29.000562    0.427447    0.0   23.956061   \n",
       "std      0.486260    0.834700   12.051609    0.708753    0.0   20.414997   \n",
       "min      0.000000    1.000000    2.500000    0.000000    0.0    0.000000   \n",
       "25%      0.000000    2.000000   22.000000    0.000000    0.0    7.895800   \n",
       "50%      0.000000    3.000000   28.000000    0.000000    0.0   14.454200   \n",
       "75%      1.000000    3.000000   35.000000    1.000000    0.0   31.000000   \n",
       "max      1.000000    3.000000   54.500000    2.500000    0.0   65.656300   \n",
       "\n",
       "       sex_female    sex_male  embarked_C  embarked_Q  embarked_S   who_child  \\\n",
       "count  889.000000  889.000000  889.000000  889.000000  889.000000  889.000000   \n",
       "mean     0.350956    0.649044    0.188976    0.086614    0.724409    0.093363   \n",
       "std      0.477538    0.477538    0.391710    0.281427    0.447063    0.291105   \n",
       "min      0.000000    0.000000    0.000000    0.000000    0.000000    0.000000   \n",
       "25%      0.000000    0.000000    0.000000    0.000000    0.000000    0.000000   \n",
       "50%      0.000000    1.000000    0.000000    0.000000    1.000000    0.000000   \n",
       "75%      1.000000    1.000000    0.000000    0.000000    1.000000    0.000000   \n",
       "max      1.000000    1.000000    1.000000    1.000000    1.000000    1.000000   \n",
       "\n",
       "          who_man   who_woman  embark_town_Cherbourg  embark_town_Queenstown  \\\n",
       "count  889.000000  889.000000             889.000000              889.000000   \n",
       "mean     0.604049    0.302587               0.188976                0.086614   \n",
       "std      0.489329    0.459637               0.391710                0.281427   \n",
       "min      0.000000    0.000000               0.000000                0.000000   \n",
       "25%      0.000000    0.000000               0.000000                0.000000   \n",
       "50%      1.000000    0.000000               0.000000                0.000000   \n",
       "75%      1.000000    1.000000               0.000000                0.000000   \n",
       "max      1.000000    1.000000               1.000000                1.000000   \n",
       "\n",
       "       embark_town_Southampton    alive_no   alive_yes  \n",
       "count               889.000000  889.000000  889.000000  \n",
       "mean                  0.724409    0.617548    0.382452  \n",
       "std                   0.447063    0.486260    0.486260  \n",
       "min                   0.000000    0.000000    0.000000  \n",
       "25%                   0.000000    0.000000    0.000000  \n",
       "50%                   1.000000    1.000000    0.000000  \n",
       "75%                   1.000000    1.000000    1.000000  \n",
       "max                   1.000000    1.000000    1.000000  "
      ]
     },
     "execution_count": 82,
     "metadata": {},
     "output_type": "execute_result"
    }
   ],
   "source": [
    "df_encoded.describe()"
   ]
  },
  {
   "cell_type": "markdown",
   "metadata": {},
   "source": [
    "Drop least relevent features."
   ]
  },
  {
   "cell_type": "code",
   "execution_count": 83,
   "metadata": {},
   "outputs": [
    {
     "name": "stdout",
     "output_type": "stream",
     "text": [
      "   survived  pclass   age  parch     fare  sex_female  sex_male  embarked_C  \\\n",
      "0         0       3  22.0      0   7.2500           0         1           0   \n",
      "1         1       1  38.0      0  65.6563           1         0           1   \n",
      "2         1       3  26.0      0   7.9250           1         0           0   \n",
      "3         1       1  35.0      0  53.1000           1         0           0   \n",
      "4         0       3  35.0      0   8.0500           0         1           0   \n",
      "\n",
      "   embarked_S  who_child  who_man  who_woman  embark_town_Cherbourg  \\\n",
      "0           1          0        1          0                      0   \n",
      "1           0          0        0          1                      1   \n",
      "2           1          0        0          1                      0   \n",
      "3           1          0        0          1                      0   \n",
      "4           1          0        1          0                      0   \n",
      "\n",
      "   embark_town_Southampton  alive_no  \n",
      "0                        1         1  \n",
      "1                        0         0  \n",
      "2                        1         0  \n",
      "3                        1         0  \n",
      "4                        1         1  \n"
     ]
    }
   ],
   "source": [
    "# Define the least relevant features to drop\n",
    "features_to_drop = [  'sibsp', 'embarked_Q', 'embark_town_Queenstown', \n",
    "                     'alive_yes']\n",
    "\n",
    "# Drop the least relevant features from the DataFrame\n",
    "df_encoded = df_encoded.drop(columns=features_to_drop)\n",
    "\n",
    "# Display the resulting DataFrame after dropping the features\n",
    "print(df_encoded.head())\n"
   ]
  },
  {
   "cell_type": "markdown",
   "metadata": {},
   "source": [
    "Split the dataset."
   ]
  },
  {
   "cell_type": "code",
   "execution_count": 84,
   "metadata": {},
   "outputs": [],
   "source": [
    "from sklearn.model_selection import train_test_split\n",
    "\n",
    "# Split the data into training and testing sets\n",
    "X = df_encoded.drop('survived', axis=1)  # Features (predictors)\n",
    "y = df_encoded['survived']  # Target variable\n",
    "\n",
    "X_train, X_test, y_train, y_test = train_test_split(X, y, test_size=0.2, random_state=42)"
   ]
  },
  {
   "cell_type": "markdown",
   "metadata": {},
   "source": [
    "scale the needed features."
   ]
  },
  {
   "cell_type": "code",
   "execution_count": 85,
   "metadata": {},
   "outputs": [
    {
     "data": {
      "text/html": [
       "<div>\n",
       "<style scoped>\n",
       "    .dataframe tbody tr th:only-of-type {\n",
       "        vertical-align: middle;\n",
       "    }\n",
       "\n",
       "    .dataframe tbody tr th {\n",
       "        vertical-align: top;\n",
       "    }\n",
       "\n",
       "    .dataframe thead th {\n",
       "        text-align: right;\n",
       "    }\n",
       "</style>\n",
       "<table border=\"1\" class=\"dataframe\">\n",
       "  <thead>\n",
       "    <tr style=\"text-align: right;\">\n",
       "      <th></th>\n",
       "      <th>pclass</th>\n",
       "      <th>age</th>\n",
       "      <th>parch</th>\n",
       "      <th>fare</th>\n",
       "      <th>sex_female</th>\n",
       "      <th>sex_male</th>\n",
       "      <th>embarked_C</th>\n",
       "      <th>embarked_S</th>\n",
       "      <th>who_child</th>\n",
       "      <th>who_man</th>\n",
       "      <th>who_woman</th>\n",
       "      <th>embark_town_Cherbourg</th>\n",
       "      <th>embark_town_Southampton</th>\n",
       "      <th>alive_no</th>\n",
       "    </tr>\n",
       "  </thead>\n",
       "  <tbody>\n",
       "    <tr>\n",
       "      <th>count</th>\n",
       "      <td>711.000000</td>\n",
       "      <td>711.000000</td>\n",
       "      <td>711.0</td>\n",
       "      <td>711.000000</td>\n",
       "      <td>711.000000</td>\n",
       "      <td>711.000000</td>\n",
       "      <td>711.000000</td>\n",
       "      <td>711.000000</td>\n",
       "      <td>711.000000</td>\n",
       "      <td>711.000000</td>\n",
       "      <td>711.000000</td>\n",
       "      <td>711.000000</td>\n",
       "      <td>711.000000</td>\n",
       "      <td>711.000000</td>\n",
       "    </tr>\n",
       "    <tr>\n",
       "      <th>mean</th>\n",
       "      <td>0.661041</td>\n",
       "      <td>0.513402</td>\n",
       "      <td>0.0</td>\n",
       "      <td>0.364454</td>\n",
       "      <td>0.336146</td>\n",
       "      <td>0.663854</td>\n",
       "      <td>0.185654</td>\n",
       "      <td>0.722925</td>\n",
       "      <td>0.094233</td>\n",
       "      <td>0.611814</td>\n",
       "      <td>0.293952</td>\n",
       "      <td>0.185654</td>\n",
       "      <td>0.722925</td>\n",
       "      <td>0.618847</td>\n",
       "    </tr>\n",
       "    <tr>\n",
       "      <th>std</th>\n",
       "      <td>0.417590</td>\n",
       "      <td>0.234675</td>\n",
       "      <td>0.0</td>\n",
       "      <td>0.310445</td>\n",
       "      <td>0.472722</td>\n",
       "      <td>0.472722</td>\n",
       "      <td>0.389101</td>\n",
       "      <td>0.447869</td>\n",
       "      <td>0.292359</td>\n",
       "      <td>0.487680</td>\n",
       "      <td>0.455891</td>\n",
       "      <td>0.389101</td>\n",
       "      <td>0.447869</td>\n",
       "      <td>0.486012</td>\n",
       "    </tr>\n",
       "    <tr>\n",
       "      <th>min</th>\n",
       "      <td>0.000000</td>\n",
       "      <td>0.000000</td>\n",
       "      <td>0.0</td>\n",
       "      <td>0.000000</td>\n",
       "      <td>0.000000</td>\n",
       "      <td>0.000000</td>\n",
       "      <td>0.000000</td>\n",
       "      <td>0.000000</td>\n",
       "      <td>0.000000</td>\n",
       "      <td>0.000000</td>\n",
       "      <td>0.000000</td>\n",
       "      <td>0.000000</td>\n",
       "      <td>0.000000</td>\n",
       "      <td>0.000000</td>\n",
       "    </tr>\n",
       "    <tr>\n",
       "      <th>25%</th>\n",
       "      <td>0.500000</td>\n",
       "      <td>0.375000</td>\n",
       "      <td>0.0</td>\n",
       "      <td>0.120260</td>\n",
       "      <td>0.000000</td>\n",
       "      <td>0.000000</td>\n",
       "      <td>0.000000</td>\n",
       "      <td>0.000000</td>\n",
       "      <td>0.000000</td>\n",
       "      <td>0.000000</td>\n",
       "      <td>0.000000</td>\n",
       "      <td>0.000000</td>\n",
       "      <td>0.000000</td>\n",
       "      <td>0.000000</td>\n",
       "    </tr>\n",
       "    <tr>\n",
       "      <th>50%</th>\n",
       "      <td>1.000000</td>\n",
       "      <td>0.490385</td>\n",
       "      <td>0.0</td>\n",
       "      <td>0.220847</td>\n",
       "      <td>0.000000</td>\n",
       "      <td>1.000000</td>\n",
       "      <td>0.000000</td>\n",
       "      <td>1.000000</td>\n",
       "      <td>0.000000</td>\n",
       "      <td>1.000000</td>\n",
       "      <td>0.000000</td>\n",
       "      <td>0.000000</td>\n",
       "      <td>1.000000</td>\n",
       "      <td>1.000000</td>\n",
       "    </tr>\n",
       "    <tr>\n",
       "      <th>75%</th>\n",
       "      <td>1.000000</td>\n",
       "      <td>0.644231</td>\n",
       "      <td>0.0</td>\n",
       "      <td>0.467523</td>\n",
       "      <td>1.000000</td>\n",
       "      <td>1.000000</td>\n",
       "      <td>0.000000</td>\n",
       "      <td>1.000000</td>\n",
       "      <td>0.000000</td>\n",
       "      <td>1.000000</td>\n",
       "      <td>1.000000</td>\n",
       "      <td>0.000000</td>\n",
       "      <td>1.000000</td>\n",
       "      <td>1.000000</td>\n",
       "    </tr>\n",
       "    <tr>\n",
       "      <th>max</th>\n",
       "      <td>1.000000</td>\n",
       "      <td>1.000000</td>\n",
       "      <td>0.0</td>\n",
       "      <td>1.000000</td>\n",
       "      <td>1.000000</td>\n",
       "      <td>1.000000</td>\n",
       "      <td>1.000000</td>\n",
       "      <td>1.000000</td>\n",
       "      <td>1.000000</td>\n",
       "      <td>1.000000</td>\n",
       "      <td>1.000000</td>\n",
       "      <td>1.000000</td>\n",
       "      <td>1.000000</td>\n",
       "      <td>1.000000</td>\n",
       "    </tr>\n",
       "  </tbody>\n",
       "</table>\n",
       "</div>"
      ],
      "text/plain": [
       "           pclass         age  parch        fare  sex_female    sex_male  \\\n",
       "count  711.000000  711.000000  711.0  711.000000  711.000000  711.000000   \n",
       "mean     0.661041    0.513402    0.0    0.364454    0.336146    0.663854   \n",
       "std      0.417590    0.234675    0.0    0.310445    0.472722    0.472722   \n",
       "min      0.000000    0.000000    0.0    0.000000    0.000000    0.000000   \n",
       "25%      0.500000    0.375000    0.0    0.120260    0.000000    0.000000   \n",
       "50%      1.000000    0.490385    0.0    0.220847    0.000000    1.000000   \n",
       "75%      1.000000    0.644231    0.0    0.467523    1.000000    1.000000   \n",
       "max      1.000000    1.000000    0.0    1.000000    1.000000    1.000000   \n",
       "\n",
       "       embarked_C  embarked_S   who_child     who_man   who_woman  \\\n",
       "count  711.000000  711.000000  711.000000  711.000000  711.000000   \n",
       "mean     0.185654    0.722925    0.094233    0.611814    0.293952   \n",
       "std      0.389101    0.447869    0.292359    0.487680    0.455891   \n",
       "min      0.000000    0.000000    0.000000    0.000000    0.000000   \n",
       "25%      0.000000    0.000000    0.000000    0.000000    0.000000   \n",
       "50%      0.000000    1.000000    0.000000    1.000000    0.000000   \n",
       "75%      0.000000    1.000000    0.000000    1.000000    1.000000   \n",
       "max      1.000000    1.000000    1.000000    1.000000    1.000000   \n",
       "\n",
       "       embark_town_Cherbourg  embark_town_Southampton    alive_no  \n",
       "count             711.000000               711.000000  711.000000  \n",
       "mean                0.185654                 0.722925    0.618847  \n",
       "std                 0.389101                 0.447869    0.486012  \n",
       "min                 0.000000                 0.000000    0.000000  \n",
       "25%                 0.000000                 0.000000    0.000000  \n",
       "50%                 0.000000                 1.000000    1.000000  \n",
       "75%                 0.000000                 1.000000    1.000000  \n",
       "max                 1.000000                 1.000000    1.000000  "
      ]
     },
     "execution_count": 85,
     "metadata": {},
     "output_type": "execute_result"
    }
   ],
   "source": [
    "from sklearn.preprocessing import MinMaxScaler\n",
    "scaler = MinMaxScaler()\n",
    "features_to_scale = ['age', 'fare','parch','pclass']\n",
    "scaler.fit(X_train[features_to_scale])\n",
    "# Transform (scale) the training and testing data for the chosen features\n",
    "X_train[features_to_scale] = scaler.transform(X_train[features_to_scale])\n",
    "X_test[features_to_scale] = scaler.transform(X_test[features_to_scale])\n",
    "\n",
    "X_train.describe()\n"
   ]
  },
  {
   "cell_type": "markdown",
   "metadata": {},
   "source": [
    "visualise the features before and after scalling."
   ]
  },
  {
   "cell_type": "code",
   "execution_count": 86,
   "metadata": {},
   "outputs": [
    {
     "data": {
      "image/png": "[encoded data removed]",
      "text/plain": [
       "<Figure size 1800x500 with 8 Axes>"
      ]
     },
     "metadata": {},
     "output_type": "display_data"
    }
   ],
   "source": [
    "import matplotlib.pyplot as plt\n",
    "import seaborn as sns\n",
    "fig, axs = plt.subplots(figsize=(18, 5),ncols=4,nrows=2)\n",
    "\n",
    "sns.histplot(data=df, x=\"age\", ax=axs[0,0], kde=True);axs[0,0].set_title(f\"Original age\")\n",
    "sns.histplot(data=df, x=\"fare\", ax=axs[0,1], kde=True);axs[0,1].set_title(f\"Original fare\")\n",
    "sns.histplot(data=df, x=\"parch\", ax=axs[0,2], kde=True);axs[0,2].set_title(f\"Original parch\")\n",
    "sns.histplot(data=df, x=\"pclass\", ax=axs[0,3], kde=True);axs[0,3].set_title(f\"Original pclass\")\n",
    "\n",
    "sns.histplot(data=X_train, x=\"age\", ax=axs[1,0], kde=True);axs[1,0].set_title(f\"Scalled age\")\n",
    "sns.histplot(data=X_train, x=\"fare\", ax=axs[1,1], kde=True);axs[1,1].set_title(f\"Scalled fare\")\n",
    "sns.histplot(data=X_train, x=\"parch\", ax=axs[1,2], kde=True);axs[1,2].set_title(f\"Scalled parch\")\n",
    "sns.histplot(data=X_train, x=\"pclass\", ax=axs[1,3], kde=True);axs[1,3].set_title(f\"Scalled pclass\")\n",
    "\n",
    "fig.subplots_adjust(hspace=1)"
   ]
  },
  {
   "cell_type": "markdown",
   "metadata": {},
   "source": [
    "Principal Component Analysis (PCA) as a suitable dimensionality reduction."
   ]
  },
  {
   "cell_type": "code",
   "execution_count": 87,
   "metadata": {},
   "outputs": [],
   "source": [
    "# # Import the PCA module from scikit-learn\n",
    "# from sklearn.decomposition import PCA\n",
    "\n",
    "# # Create an instance of PCA with n_components set to 4\n",
    "# pca = PCA(n_components=5)\n",
    "\n",
    "# # Fit the PCA model on the data (assuming 'df' contains your dataset)\n",
    "# pca.fit(X_train)\n",
    "\n",
    "# # Print the explained variance ratio for each selected component\n",
    "# print(f\"Explained variance ratio for each PCA component are {pca.explained_variance_ratio_}\")\n",
    "\n",
    "# # Transform the original DataFrame 'df' using PCA\n",
    "# Array_PCA = pca.transform(X_train)\n",
    "# X_test_pca = pca.transform(X_test)  # Apply PCA to testing set using fitted model\n",
    "\n",
    "# # Create a new DataFrame 'df_PCA' from the transformed data\n",
    "# df_PCA = pd.DataFrame(Array_PCA)\n",
    "\n",
    "# # Display the first few rows of the new DataFrame\n",
    "# df_PCA.head()"
   ]
  },
  {
   "cell_type": "code",
   "execution_count": 88,
   "metadata": {},
   "outputs": [
    {
     "name": "stdout",
     "output_type": "stream",
     "text": [
      "Explained variance ratio for each PCA component are [4.26652677e-01 2.70346391e-01 1.14846206e-01 7.17007902e-02\n",
      " 5.09033531e-02 2.99566001e-02 1.49300970e-02 1.10987196e-02\n",
      " 9.56516587e-03 1.34424578e-34]\n"
     ]
    },
    {
     "data": {
      "text/html": [
       "<div>\n",
       "<style scoped>\n",
       "    .dataframe tbody tr th:only-of-type {\n",
       "        vertical-align: middle;\n",
       "    }\n",
       "\n",
       "    .dataframe tbody tr th {\n",
       "        vertical-align: top;\n",
       "    }\n",
       "\n",
       "    .dataframe thead th {\n",
       "        text-align: right;\n",
       "    }\n",
       "</style>\n",
       "<table border=\"1\" class=\"dataframe\">\n",
       "  <thead>\n",
       "    <tr style=\"text-align: right;\">\n",
       "      <th></th>\n",
       "      <th>0</th>\n",
       "      <th>1</th>\n",
       "      <th>2</th>\n",
       "      <th>3</th>\n",
       "      <th>4</th>\n",
       "      <th>5</th>\n",
       "      <th>6</th>\n",
       "      <th>7</th>\n",
       "      <th>8</th>\n",
       "      <th>9</th>\n",
       "    </tr>\n",
       "  </thead>\n",
       "  <tbody>\n",
       "    <tr>\n",
       "      <th>0</th>\n",
       "      <td>1.380127</td>\n",
       "      <td>-0.782125</td>\n",
       "      <td>0.759490</td>\n",
       "      <td>0.016954</td>\n",
       "      <td>-0.140735</td>\n",
       "      <td>0.132204</td>\n",
       "      <td>0.220195</td>\n",
       "      <td>-0.221003</td>\n",
       "      <td>0.020103</td>\n",
       "      <td>1.301689e-16</td>\n",
       "    </tr>\n",
       "    <tr>\n",
       "      <th>1</th>\n",
       "      <td>1.411877</td>\n",
       "      <td>1.004697</td>\n",
       "      <td>-0.858693</td>\n",
       "      <td>-0.595185</td>\n",
       "      <td>-0.420816</td>\n",
       "      <td>-0.364439</td>\n",
       "      <td>0.002271</td>\n",
       "      <td>-0.008066</td>\n",
       "      <td>-0.108660</td>\n",
       "      <td>6.323330e-17</td>\n",
       "    </tr>\n",
       "    <tr>\n",
       "      <th>2</th>\n",
       "      <td>-0.927959</td>\n",
       "      <td>-0.260810</td>\n",
       "      <td>-0.223410</td>\n",
       "      <td>-0.122656</td>\n",
       "      <td>0.066420</td>\n",
       "      <td>-0.124412</td>\n",
       "      <td>0.014448</td>\n",
       "      <td>0.051602</td>\n",
       "      <td>0.009151</td>\n",
       "      <td>-4.952373e-17</td>\n",
       "    </tr>\n",
       "    <tr>\n",
       "      <th>3</th>\n",
       "      <td>0.933829</td>\n",
       "      <td>-0.841575</td>\n",
       "      <td>-0.268680</td>\n",
       "      <td>-0.470028</td>\n",
       "      <td>-0.618185</td>\n",
       "      <td>0.011733</td>\n",
       "      <td>0.608615</td>\n",
       "      <td>0.121112</td>\n",
       "      <td>0.097100</td>\n",
       "      <td>2.835432e-16</td>\n",
       "    </tr>\n",
       "    <tr>\n",
       "      <th>4</th>\n",
       "      <td>-0.378649</td>\n",
       "      <td>-0.413855</td>\n",
       "      <td>-0.360002</td>\n",
       "      <td>0.876739</td>\n",
       "      <td>-0.822566</td>\n",
       "      <td>0.188052</td>\n",
       "      <td>0.247114</td>\n",
       "      <td>0.318840</td>\n",
       "      <td>-0.331613</td>\n",
       "      <td>-2.176815e-17</td>\n",
       "    </tr>\n",
       "  </tbody>\n",
       "</table>\n",
       "</div>"
      ],
      "text/plain": [
       "          0         1         2         3         4         5         6  \\\n",
       "0  1.380127 -0.782125  0.759490  0.016954 -0.140735  0.132204  0.220195   \n",
       "1  1.411877  1.004697 -0.858693 -0.595185 -0.420816 -0.364439  0.002271   \n",
       "2 -0.927959 -0.260810 -0.223410 -0.122656  0.066420 -0.124412  0.014448   \n",
       "3  0.933829 -0.841575 -0.268680 -0.470028 -0.618185  0.011733  0.608615   \n",
       "4 -0.378649 -0.413855 -0.360002  0.876739 -0.822566  0.188052  0.247114   \n",
       "\n",
       "          7         8             9  \n",
       "0 -0.221003  0.020103  1.301689e-16  \n",
       "1 -0.008066 -0.108660  6.323330e-17  \n",
       "2  0.051602  0.009151 -4.952373e-17  \n",
       "3  0.121112  0.097100  2.835432e-16  \n",
       "4  0.318840 -0.331613 -2.176815e-17  "
      ]
     },
     "execution_count": 88,
     "metadata": {},
     "output_type": "execute_result"
    }
   ],
   "source": [
    "# Import the PCA module from scikit-learn\n",
    "from sklearn.decomposition import PCA\n",
    "\n",
    "# Create an instance of PCA with n_components set to 4\n",
    "pca = PCA(n_components=10)\n",
    "\n",
    "# Fit the PCA model on the data (assuming 'df' contains your dataset)\n",
    "pca.fit(X_train)\n",
    "\n",
    "# Print the explained variance ratio for each selected component\n",
    "print(f\"Explained variance ratio for each PCA component are {pca.explained_variance_ratio_}\")\n",
    "\n",
    "# Transform the original DataFrame 'df' using PCA\n",
    "Array_PCA = pca.transform(X_train)\n",
    "X_test_pca = pca.transform(X_test)\n",
    "\n",
    "# Create a new DataFrame 'df_PCA' from the transformed data\n",
    "df_PCA = pd.DataFrame(Array_PCA)\n",
    "\n",
    "# Display the first few rows of the new DataFrame\n",
    "df_PCA.head()"
   ]
  },
  {
   "cell_type": "markdown",
   "metadata": {},
   "source": [
    "visualise before and after PCA. "
   ]
  },
  {
   "cell_type": "code",
   "execution_count": 89,
   "metadata": {},
   "outputs": [
    {
     "data": {
      "image/png": "[encoded data removed]",
      "text/plain": [
       "<Figure size 1800x500 with 8 Axes>"
      ]
     },
     "metadata": {},
     "output_type": "display_data"
    }
   ],
   "source": [
    "import matplotlib.pyplot as plt\n",
    "import seaborn as sns\n",
    "fig, axs = plt.subplots(figsize=(18, 5),ncols=4,nrows=2)\n",
    "\n",
    "\n",
    "sns.histplot(data=X_train, x=\"age\", ax=axs[0,0], kde=True);axs[1,0].set_title(f\"Scalled age\")\n",
    "sns.histplot(data=X_train, x=\"fare\", ax=axs[0,1], kde=True);axs[1,1].set_title(f\"Scalled fare\")\n",
    "sns.histplot(data=X_train, x=\"parch\", ax=axs[0,2], kde=True);axs[1,2].set_title(f\"Scalled parch\")\n",
    "sns.histplot(data=X_train, x=\"pclass\", ax=axs[0,3], kde=True);axs[1,3].set_title(f\"Scalled pclass\")\n",
    "\n",
    "\n",
    "sns.histplot(data=df_PCA, x=0, ax=axs[1,0], kde=True);axs[1,0].set_title(f\"PCA age Component\")\n",
    "sns.histplot(data=df_PCA, x=1, ax=axs[1,1], kde=True);axs[1,1].set_title(f\"PCA fare Component\")\n",
    "sns.histplot(data=df_PCA, x=2, ax=axs[1,2], kde=True);axs[1,2].set_title(f\"PCA parch Component\")\n",
    "sns.histplot(data=df_PCA, x=4, ax=axs[1,3], kde=True);axs[1,3].set_title(f\"PCA pclass Component\")\n",
    "\n",
    "fig.subplots_adjust(hspace=1)"
   ]
  },
  {
   "cell_type": "code",
   "execution_count": 90,
   "metadata": {},
   "outputs": [
    {
     "name": "stdout",
     "output_type": "stream",
     "text": [
      "Explained variance ratio for each PCA component: [4.26652677e-01 2.70346391e-01 1.14846206e-01 7.17007902e-02\n",
      " 5.09033531e-02 2.99566001e-02 1.49300970e-02 1.10987196e-02\n",
      " 9.56516587e-03 1.34424578e-34]\n",
      "Number of original features: 14\n",
      "Number of features retained after PCA: 10\n"
     ]
    }
   ],
   "source": [
    "\n",
    "# Model with PCA components:\n",
    "clf_pca = RandomForestClassifier(random_state=42)\n",
    "clf_pca.fit(Array_PCA, y_train)\n",
    "y_pred_pca = clf_pca.predict(X_test_pca)\n",
    "accuracy_pca = accuracy_score(y_test, y_pred_pca)\n",
    "print(f\"Explained variance ratio for each PCA component: {pca.explained_variance_ratio_}\")\n",
    "print(f\"Number of original features: {X_train.shape[1]}\")\n",
    "print(f\"Number of features retained after PCA: {Array_PCA.shape[1]}\")\n"
   ]
  },
  {
   "cell_type": "code",
   "execution_count": 91,
   "metadata": {},
   "outputs": [
    {
     "name": "stdout",
     "output_type": "stream",
     "text": [
      "Accuracy with PCA components using Random Forest: 1.0\n"
     ]
    }
   ],
   "source": [
    "\n",
    "# Model with PCA components:\n",
    "clf_pca = RandomForestClassifier(random_state=42)\n",
    "clf_pca.fit(Array_PCA, y_train)\n",
    "y_pred_pca = clf_pca.predict(X_test_pca)\n",
    "accuracy_pca = accuracy_score(y_test, y_pred_pca)\n",
    "print(f\"Accuracy with PCA components using Random Forest: {accuracy_pca}\")\n"
   ]
  },
  {
   "cell_type": "markdown",
   "metadata": {},
   "source": [
    "Model training comparison between preprocessed data and unprocessed data.\n",
    "- Shows the positive difference data preprocessing make with model training."
   ]
  },
  {
   "cell_type": "markdown",
   "metadata": {},
   "source": [
    "SVM is sensitive to feature scaling and can be affected by outliers, so preprocessing steps like scaling and outlier removal have a pronounced impact on its performance."
   ]
  },
  {
   "cell_type": "code",
   "execution_count": 92,
   "metadata": {},
   "outputs": [
    {
     "name": "stdout",
     "output_type": "stream",
     "text": [
      "Accuracy with original features (SVM): 0.7191011235955056\n",
      "Accuracy with PCA components (SVM): 1.0\n"
     ]
    }
   ],
   "source": [
    "or_df = sns.load_dataset('titanic')\n",
    "# Split the data into training and testing sets\n",
    "or_X = df_encoded.drop('survived', axis=1)  # Features (predictors)\n",
    "or_y = df_encoded['survived']  # Target variable\n",
    "\n",
    "or_X_train, or_X_test, or_y_train, or_y_test = train_test_split(or_X, or_y, test_size=0.2, random_state=42)\n",
    "# Model with original features\n",
    "clf_original = SVC(random_state=42)\n",
    "clf_original.fit(or_X_train, or_y_train)\n",
    "y_pred_original = clf_original.predict(or_X_test)\n",
    "accuracy_original = accuracy_score(or_y_test, y_pred_original)\n",
    "\n",
    "# Model with PCA components\n",
    "clf_pca = SVC(random_state=42)\n",
    "clf_pca.fit(Array_PCA, y_train)  # Note: Use PCA-transformed training data\n",
    "y_pred_pca = clf_pca.predict(X_test_pca)  # Note: Use PCA-transformed test data\n",
    "accuracy_pca = accuracy_score(y_test, y_pred_pca)\n",
    "\n",
    "# Print results\n",
    "print(f\"Accuracy with original features (SVM): {accuracy_original}\")\n",
    "print(f\"Accuracy with PCA components (SVM): {accuracy_pca}\")\n"
   ]
  },
  {
   "cell_type": "markdown",
   "metadata": {},
   "source": [
    "Evaluation Metrics for Model performance comparison on processed and unprocessed data."
   ]
  },
  {
   "cell_type": "code",
   "execution_count": 93,
   "metadata": {},
   "outputs": [
    {
     "name": "stdout",
     "output_type": "stream",
     "text": [
      "Evaluation Metrics for Model with Original Features:\n",
      "Accuracy: 0.7191\n",
      "Precision: 0.7317\n",
      "Recall: 0.4348\n",
      "F1-score: 0.5455\n",
      "ROC-AUC score: 0.6669\n",
      "\n",
      "Evaluation Metrics for Model with PCA Components:\n",
      "Accuracy: 1.0000\n",
      "Precision: 1.0000\n",
      "Recall: 1.0000\n",
      "F1-score: 1.0000\n",
      "ROC-AUC score: 1.0000\n"
     ]
    }
   ],
   "source": [
    "\n",
    "# Compute evaluation metrics for the model with original features\n",
    "accuracy_original = accuracy_score(or_y_test, y_pred_original)\n",
    "precision_original = precision_score(or_y_test, y_pred_original)\n",
    "recall_original = recall_score(or_y_test, y_pred_original)\n",
    "f1_original = f1_score(or_y_test, y_pred_original)\n",
    "roc_auc_original = roc_auc_score(or_y_test, y_pred_original)\n",
    "\n",
    "# Compute evaluation metrics for the model with PCA components\n",
    "accuracy_pca = accuracy_score(y_test, y_pred_pca)\n",
    "precision_pca = precision_score(y_test, y_pred_pca)\n",
    "recall_pca = recall_score(y_test, y_pred_pca)\n",
    "f1_pca = f1_score(y_test, y_pred_pca)\n",
    "roc_auc_pca = roc_auc_score(y_test, y_pred_pca)\n",
    "\n",
    "# Print results\n",
    "print(\"Evaluation Metrics for Model with Original Features:\")\n",
    "print(f\"Accuracy: {accuracy_original:.4f}\")\n",
    "print(f\"Precision: {precision_original:.4f}\")\n",
    "print(f\"Recall: {recall_original:.4f}\")\n",
    "print(f\"F1-score: {f1_original:.4f}\")\n",
    "print(f\"ROC-AUC score: {roc_auc_original:.4f}\")\n",
    "print()\n",
    "print(\"Evaluation Metrics for Model with PCA Components:\")\n",
    "print(f\"Accuracy: {accuracy_pca:.4f}\")\n",
    "print(f\"Precision: {precision_pca:.4f}\")\n",
    "print(f\"Recall: {recall_pca:.4f}\")\n",
    "print(f\"F1-score: {f1_pca:.4f}\")\n",
    "print(f\"ROC-AUC score: {roc_auc_pca:.4f}\")\n"
   ]
  }
 ],
 "metadata": {
  "kernelspec": {
   "display_name": "Python 3",
   "language": "python",
   "name": "python3"
  },
  "language_info": {
   "codemirror_mode": {
    "name": "ipython",
    "version": 3
   },
   "file_extension": ".py",
   "mimetype": "text/x-python",
   "name": "python",
   "nbconvert_exporter": "python",
   "pygments_lexer": "ipython3",
   "version": "3.11.4"
  }
 },
 "nbformat": 4,
 "nbformat_minor": 2
}
